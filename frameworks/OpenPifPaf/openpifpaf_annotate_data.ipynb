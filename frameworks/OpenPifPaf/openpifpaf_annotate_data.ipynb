{
 "cells": [
  {
   "cell_type": "markdown",
   "id": "e36b5f8a-c73e-4317-9caa-7718cade95e5",
   "metadata": {},
   "source": [
    "#### Title:          openpifpaf_annotate_data.ipynb\n",
    "#### Description:    Merge output files to a single CSV file per video\n",
    "#### Author:         Fabian Kahl"
   ]
  },
  {
   "cell_type": "code",
   "execution_count": null,
   "id": "b681e50f",
   "metadata": {},
   "outputs": [],
   "source": [
    "from numpy import load\n",
    "import pandas as pd\n",
    "import cv2\n",
    "import os\n",
    "import json\n",
    "import numpy as np\n",
    "from pathlib import Path"
   ]
  },
  {
   "cell_type": "code",
   "execution_count": null,
   "id": "14b729b9",
   "metadata": {},
   "outputs": [],
   "source": [
    "def json_to_csv(json_path, video, csv_dir_out):\n",
    "    duration = np.nan\n",
    "\n",
    "    # Source: https://openpifpaf.github.io/datasets.html#coco-person-keypoints\n",
    "    joint_names = ['nose', 'left_eye', 'right_eye', 'left_ear',\n",
    "                   'right_ear', 'left_shoulder', 'right_shoulder',\n",
    "                   'left_elbow', 'right_elbow', 'left_wrist',\n",
    "                   'right_wrist', 'left_hip', 'right_hip',\n",
    "                   'left_knee', 'right_knee', 'left_ankle', 'right_ankle']\n",
    "\n",
    "    dims = ['X', 'Y', 'C']\n",
    "    cols = []\n",
    "    for joint in joint_names:\n",
    "        for suffix in dims:\n",
    "            cols.append(joint + suffix)\n",
    "\n",
    "    # Get timestamp and frame\n",
    "    cap = cv2.VideoCapture(video)\n",
    "    timestamps = []\n",
    "    while cap.isOpened():\n",
    "        success, image = cap.read()\n",
    "        timestamp_ms = cap.get(cv2.CAP_PROP_POS_MSEC)\n",
    "        if not success:\n",
    "            print(\"Ignoring empty video frame.\")\n",
    "            break\n",
    "        timestamps.append(timestamp_ms)\n",
    "    cap.release()\n",
    "\n",
    "    df = pd.DataFrame()\n",
    "    with open(json_path, 'r') as file:\n",
    "        for line in file:\n",
    "            data = json.loads(line)\n",
    "            try:\n",
    "                df_frame_stacked = pd.DataFrame([data['predictions'][0]['keypoints']], columns=cols, index=[data['frame']])\n",
    "            except:\n",
    "                print('Not readable: ', video, data)\n",
    "            # Append df_frame_stacked on df containing all frames\n",
    "            df = pd.concat([df, df_frame_stacked])\n",
    "\n",
    "    path_split = video.rsplit('/', 1)\n",
    "    vid_name_in = path_split[-1]\n",
    "    csv_name_out = vid_name_in.replace('.mp4', '.csv')\n",
    "\n",
    "    # Fill some meta data\n",
    "    vid_in_split = vid_name_in.split('_')\n",
    "    df['Subject'] = 'Sub'+str(int(vid_in_split[0]))\n",
    "    df['exerciseName'] = vid_in_split[2]\n",
    "    df['ipad_view'] = vid_in_split[3].split('.')[0]\n",
    "    df['duration'] = duration\n",
    "    df['Timestamp'] = timestamps\n",
    "    df['Frame'] = list(range(1, len(df)+1))\n",
    "    # Rearrange the cols to have the meta data in front\n",
    "    cols = df.columns.to_list()\n",
    "    df = df[cols[-6:] + cols[:-6]] # Move last 6 cols to the front\n",
    "\n",
    "    if not os.path.exists(csv_dir_out):\n",
    "        os.mkdir(csv_dir_out)\n",
    "    df.to_csv(csv_dir_out + csv_name_out, index=False)\n",
    "\n",
    "def list_subdirs(folder_path):\n",
    "    subdirs = [d for d in os.listdir(folder_path) if os.path.isdir(os.path.join(folder_path, d))]\n",
    "    return subdirs"
   ]
  },
  {
   "cell_type": "code",
   "execution_count": null,
   "id": "cbf6aedd",
   "metadata": {},
   "outputs": [],
   "source": [
    "results_dir = '../data/DZNE_runs/OpenPifPaf/'\n",
    "subdirs = list_subdirs(results_dir)\n",
    "for subdir in subdirs:\n",
    "    subsubdirs = list_subdirs(results_dir+subdir+'/')\n",
    "    for subsubdir in subsubdirs:\n",
    "        json_path = results_dir + subdir + '/' + subsubdir + '/markers.json'\n",
    "        video = '../data/vid_cut/' + subdir + '/' + subsubdir.replace('.MOV', '.mp4')\n",
    "        csv_dir_out = '../data/non_area_fileformat/frameworks_orig/OpenPifPaf/' + subdir + '/'\n",
    "        if not os.path.exists(csv_dir_out):\n",
    "            os.makedirs(csv_dir_out)\n",
    "        json_to_csv(json_path, video, csv_dir_out)"
   ]
  }
 ],
 "metadata": {
  "kernelspec": {
   "display_name": "Python 3 (ipykernel)",
   "language": "python",
   "name": "python3"
  },
  "language_info": {
   "codemirror_mode": {
    "name": "ipython",
    "version": 3
   },
   "file_extension": ".py",
   "mimetype": "text/x-python",
   "name": "python",
   "nbconvert_exporter": "python",
   "pygments_lexer": "ipython3",
   "version": "3.9.18"
  }
 },
 "nbformat": 4,
 "nbformat_minor": 5
}

{
 "cells": [
  {
   "cell_type": "markdown",
   "id": "identical-effect",
   "metadata": {},
   "source": [
    "#### Title:          08_framework_vs_vicon.ipynb\n",
    "#### Description:    Compare a framework with Vicon\n",
    "#### Authors:        Fabian Kahl and Maximilian Kapsecker"
   ]
  },
  {
   "cell_type": "markdown",
   "id": "naughty-orange",
   "metadata": {},
   "source": [
    "### 1. General Functionality and Definitions"
   ]
  },
  {
   "cell_type": "code",
   "execution_count": null,
   "id": "worthy-tackle",
   "metadata": {},
   "outputs": [],
   "source": [
    "import numpy as np\n",
    "import pandas as pd\n",
    "from matplotlib import pyplot as plt\n",
    "import seaborn as sns\n",
    "\n",
    "from scipy import signal\n",
    "from statsmodels.tsa.stattools import grangercausalitytests\n",
    "import statsmodels.api as sm\n",
    "import pingouin as pg\n",
    "import warnings\n",
    "from utils import *\n",
    "\n",
    "pd.set_option('display.float_format', lambda x: '%.2f' % x)\n",
    "pd.set_option('display.precision', 2)\n",
    "path_to_complete_csv = '../data/csvs_complete/'\n",
    "\n",
    "# Frameworks:\n",
    "# 'AlphaPose', 'Detectron2', 'MediaPipe', 'MeTRAbs', 'MHFormer',\n",
    "# 'MMPose', 'MoveNet', 'OpenPifPaf', 'OpenPifPaf-vita', 'OpenPose', 'PoseFormerV2',\n",
    "# 'rtmlib', 'StridedTransformer-Pose3D', 'ultralytics', 'ViTPose', 'YOLOv7'\n",
    "framework = 'MoveNet'\n",
    "path_best_shifts = '../data/best_shifts/'"
   ]
  },
  {
   "cell_type": "code",
   "execution_count": null,
   "id": "incorrect-municipality",
   "metadata": {},
   "outputs": [],
   "source": [
    "# Column name mapping\n",
    "mapping = {\n",
    "    'leftShoulder': 'LSJC',\n",
    "    'leftElbow': 'LEJC',\n",
    "    'leftHand': 'LWJC',\n",
    "    'leftHip': 'LHJC',\n",
    "    'leftKnee': 'LKJC',\n",
    "    'leftFoot': 'LAJC',\n",
    "    'rightShoulder': 'RSJC',\n",
    "    'rightElbow': 'REJC',\n",
    "    'rightHand': 'RWJC',\n",
    "    'rightHip': 'RHJC',\n",
    "    'rightKnee': 'RKJC',\n",
    "    'rightFoot': 'RAJC'\n",
    "}\n",
    "\n",
    "# Parameters\n",
    "exercises = ['Front lunge', 'Jumping jacks', 'Lateral arm raise',\n",
    "             'Leg extension crunch', 'Reverse fly', 'Side squat',\n",
    "             'Single leg deadlift', 'Squat']\n",
    "\n",
    "views = ['Frontal', 'Side']\n",
    "\n",
    "# parent - angle - child\n",
    "angles = [['leftHip', 'leftShoulder', 'leftElbow'],\n",
    "          ['leftShoulder', 'leftElbow', 'leftHand'],\n",
    "          ['rightHip', 'rightShoulder', 'rightElbow'],\n",
    "          ['rightShoulder', 'rightElbow', 'rightHand'],\n",
    "          ['leftShoulder', 'leftHip', 'leftKnee'],\n",
    "          ['leftHip', 'leftKnee', 'leftFoot'],\n",
    "          ['rightShoulder', 'rightHip', 'rightKnee'],\n",
    "          ['rightHip', 'rightKnee', 'rightFoot'],\n",
    "         ]\n",
    "\n",
    "relevant_angles = {\n",
    "    'Squat' : \n",
    "    [\n",
    "        ['leftShoulder', 'leftHip', 'leftKnee'], \n",
    "        ['rightShoulder', 'rightHip', 'rightKnee'], \n",
    "        ['leftHip', 'leftKnee', 'leftFoot'], \n",
    "        ['rightHip', 'rightKnee', 'rightFoot']\n",
    "    ],\n",
    "    'Front lunge' : \n",
    "    [\n",
    "        ['leftShoulder', 'leftHip', 'leftKnee'], \n",
    "        ['rightShoulder', 'rightHip', 'rightKnee'], \n",
    "        ['leftHip', 'leftKnee', 'leftFoot'], \n",
    "        ['rightHip', 'rightKnee', 'rightFoot']\n",
    "    ],\n",
    "    'Single leg deadlift' : [\n",
    "        ['leftShoulder', 'leftHip', 'leftKnee'], \n",
    "        ['rightShoulder', 'rightHip', 'rightKnee'], \n",
    "        ['leftHip', 'leftKnee', 'leftFoot'], \n",
    "        ['rightHip', 'rightKnee', 'rightFoot']\n",
    "    ],\n",
    "    'Lateral arm raise' : \n",
    "    [\n",
    "        ['leftHip', 'leftShoulder', 'leftElbow'], \n",
    "        ['rightHip', 'rightShoulder', 'rightElbow'], \n",
    "        ['leftShoulder', 'leftElbow', 'leftHand'], \n",
    "        ['rightShoulder', 'rightElbow', 'rightHand']\n",
    "    ],\n",
    "    'Reverse fly' : \n",
    "    [\n",
    "        ['leftHip', 'leftShoulder', 'leftElbow'], \n",
    "        ['rightHip', 'rightShoulder', 'rightElbow'], \n",
    "        ['leftShoulder', 'leftElbow', 'leftHand'], \n",
    "        ['rightShoulder', 'rightElbow', 'rightHand']\n",
    "    ],\n",
    "    'Jumping jacks' : \n",
    "    [\n",
    "        ['leftHip', 'leftShoulder', 'leftElbow'], \n",
    "        ['rightHip', 'rightShoulder', 'rightElbow'], \n",
    "        ['leftShoulder', 'leftElbow', 'leftHand'], \n",
    "        ['rightShoulder', 'rightElbow', 'rightHand'], \n",
    "        ['leftShoulder', 'leftHip', 'leftKnee'], \n",
    "        ['rightShoulder', 'rightHip', 'rightKnee'], \n",
    "        ['leftHip', 'leftKnee', 'leftFoot'], \n",
    "        ['rightHip', 'rightKnee', 'rightFoot']\n",
    "    ],\n",
    "    'Side squat' : [\n",
    "        ['leftShoulder', 'leftHip', 'leftKnee'], \n",
    "        ['rightShoulder', 'rightHip', 'rightKnee'], \n",
    "        ['leftHip', 'leftKnee', 'leftFoot'], \n",
    "        ['rightHip', 'rightKnee', 'rightFoot']\n",
    "    ],\n",
    "    'Leg extension crunch' : \n",
    "    [\n",
    "        ['leftShoulder', 'leftHip', 'leftKnee'], \n",
    "        ['rightShoulder', 'rightHip', 'rightKnee'], \n",
    "        ['leftHip', 'leftKnee', 'leftFoot'], \n",
    "        ['rightHip', 'rightKnee', 'rightFoot']\n",
    "    ]\n",
    "}\n",
    "\n",
    "angles_benchmark = pd.DataFrame(index=exercises, columns=views)\n",
    "angles_benchmark.loc['Front lunge'] = [['rightHip', 'rightKnee', 'rightFoot'],\n",
    "                                       ['rightHip', 'rightKnee', 'rightFoot']]\n",
    "angles_benchmark.loc['Jumping jacks'] = [['leftHip', 'leftShoulder', 'leftElbow'],\n",
    "                                         ['leftHip', 'leftShoulder', 'leftElbow']]\n",
    "angles_benchmark.loc['Lateral arm raise'] = [['leftHip', 'leftShoulder', 'leftElbow'],\n",
    "                                            ['leftHip', 'leftShoulder', 'leftElbow']]\n",
    "angles_benchmark.loc['Leg extension crunch'] = [['rightShoulder', 'rightHip', 'rightKnee'],\n",
    "                                                ['rightHip', 'rightKnee', 'rightFoot']]\n",
    "angles_benchmark.loc['Reverse fly'] = [['rightShoulder', 'leftShoulder', 'leftElbow'],\n",
    "                                      ['rightShoulder', 'leftShoulder', 'leftElbow']]\n",
    "angles_benchmark.loc['Side squat'] = [['rightHip', 'rightKnee', 'rightFoot'],\n",
    "                                     ['rightHip', 'rightKnee', 'rightFoot']]\n",
    "angles_benchmark.loc['Single leg deadlift'] = [['leftShoulder', 'leftHip', 'leftKnee'],\n",
    "                                              ['leftShoulder', 'leftHip', 'leftKnee']]\n",
    "angles_benchmark.loc['Squat'] = [['rightHip', 'rightKnee', 'rightFoot'],\n",
    "                                ['rightHip', 'rightKnee', 'rightFoot']]\n",
    "\n",
    "multi_index = pd.MultiIndex.from_product([exercises, views], names=['Exercise', 'View'])\n",
    "data = [\n",
    "    ['Not Visible', 'No Action', 'Not Visible', 'No Action', 'Side View', 'Side View', 'Side View', 'Side View'],\n",
    "    ['No Action', 'No Action', 'No Action', 'No Action', 'Oblique View', 'Oblique View', 'Oblique View', 'Oblique View'],\n",
    "    ['Oblique View', 'Oblique View', 'Side View', 'Side View', 'Oblique View', 'Oblique View', 'Frontal View', 'Frontal View'],\n",
    "    ['Oblique View', 'Oblique View', 'Oblique View', 'Oblique View', 'Oblique View', 'Oblique View', 'Oblique View', 'Oblique View'],\n",
    "    ['No Action', 'No Action', 'Side View', 'Side View', 'No Action', 'No Action', 'No Action', 'No Action'],\n",
    "    ['No Action', 'No Action', 'Oblique View', 'Oblique View', 'No Action', 'No Action', 'No Action', 'No Action'],\n",
    "    ['Not Visible', 'Oblique View', 'Not Visible', 'Oblique View', 'Side View', 'Side View', 'Side View', 'Side View'],\n",
    "    ['Not Visible', 'Oblique View', 'Not Visible', 'Oblique View', 'Oblique View', 'Oblique View', 'Oblique View', 'Oblique View'],\n",
    "    ['No Action', 'No Action', 'Frontal View', 'Frontal View', 'No Action', 'No Action', 'No Action', 'No Action'],\n",
    "    ['No Action', 'No Action', 'Oblique View', 'Oblique View', 'No Action', 'No Action', 'No Action', 'No Action'],\n",
    "    ['No Action', 'No Action', 'No Action', 'No Action', 'Oblique View', 'Oblique View', 'No Action', 'Oblique View'],\n",
    "    ['No Action', 'No Action', 'No Action', 'No Action', 'Oblique View', 'Oblique View', 'No Action', 'Side View'],\n",
    "    ['No Action', 'No Action', 'Not Visible', 'Side View', 'Side View', 'No Action', 'Side View', 'No Action'],\n",
    "    ['No Action', 'No Action', 'Oblique View', 'Oblique View', 'Oblique View', 'No Action', 'Oblique View', 'No Action'],\n",
    "    ['No Action', 'No Action', 'No Action', 'No Action', 'Frontal View', 'Frontal View', 'Frontal View', 'Frontal View'],\n",
    "    ['No Action', 'No Action', 'No Action', 'No Action', 'Oblique View', 'Oblique View', 'Oblique View', 'Oblique View']\n",
    "]\n",
    "angle_order = ['leftElbow', 'rightElbow', 'leftShoulder', 'rightShoulder', 'leftHip', 'rightHip', 'leftKnee', 'rightKnee']\n",
    "angle_categorization = pd.DataFrame(index=multi_index, columns=angle_order, data=data)"
   ]
  },
  {
   "cell_type": "code",
   "execution_count": null,
   "id": "9d1945ba",
   "metadata": {},
   "outputs": [],
   "source": [
    "angle_categorization"
   ]
  },
  {
   "cell_type": "markdown",
   "id": "neutral-showcase",
   "metadata": {},
   "source": [
    "### 2. Loading Data"
   ]
  },
  {
   "cell_type": "code",
   "execution_count": null,
   "id": "fancy-cooperative",
   "metadata": {},
   "outputs": [],
   "source": [
    "df = pd.read_csv(path_to_complete_csv+framework+'_vs_vicon_complete.csv')"
   ]
  },
  {
   "cell_type": "code",
   "execution_count": null,
   "id": "terminal-parts",
   "metadata": {},
   "outputs": [],
   "source": [
    "df.head()"
   ]
  },
  {
   "cell_type": "code",
   "execution_count": null,
   "id": "turkish-drinking",
   "metadata": {},
   "outputs": [],
   "source": [
    "mean_sr = []\n",
    "for k in df.subject.unique():\n",
    "    for i in df.exerciseName.unique():\n",
    "        for j in df.ipad_view.unique():\n",
    "            mean_time = np.mean(\n",
    "                    df[(df.subject == k) & (df.exerciseName == i) & (df.ipad_view == j)].timestamp.diff()\n",
    "                )\n",
    "            # Hence not all combinations are available, skip not existing ones\n",
    "            if mean_time is not np.nan:\n",
    "                mean_sr.append(mean_time)\n",
    "\n",
    "print('Average Frequency for '+framework+':', 1 / np.mean(mean_sr), 'Hz')"
   ]
  },
  {
   "cell_type": "markdown",
   "id": "labeled-professional",
   "metadata": {},
   "source": [
    "### 3. Analyse Data\n",
    "\n",
    "Iterating through all combinations and calculating for each combination the mean and mutual information. The results are compiled in a common dataframe."
   ]
  },
  {
   "cell_type": "code",
   "execution_count": null,
   "id": "handmade-message",
   "metadata": {
    "scrolled": true
   },
   "outputs": [],
   "source": [
    "result = pd.DataFrame()\n",
    "save_plot = False\n",
    "df_best_shifts = pd.read_csv(path_best_shifts+'best_shifts.csv')\n",
    "\n",
    "for subject in [1, 2, 3, 4, 6, 7, 8, 9, 10]:\n",
    "    for exercise in exercises:\n",
    "        for view in views:\n",
    "            try:\n",
    "                best_shift = int(df_best_shifts.loc[(df_best_shifts['Subject'] == subject) &\n",
    "                                (df_best_shifts['Exercise'] == exercise) &\n",
    "                                (df_best_shifts['View'] == view),\n",
    "                                'best_shift_median'].iloc[0])\n",
    "            except:\n",
    "                print('No best_shift for combination: ', str(subject), exercise, view)\n",
    "                break\n",
    "            for angle in angles:\n",
    "                try:\n",
    "                    angles_ar, angles_vi, config = compute_angles(\n",
    "                        df,\n",
    "                        angle,\n",
    "                        mapping,\n",
    "                        ipad_view=view,\n",
    "                        subject=subject,\n",
    "                        exercise=exercise,\n",
    "                    )\n",
    "\n",
    "                    angles_ar, angles_vi = shift_timeseries(angles_ar, angles_vi, best_shift)\n",
    "                    angles_ar, angles_vi = cut_timeseries(angles_ar, angles_vi)\n",
    "                    shift, best_error = baseline_drift(angles_ar, angles_vi)\n",
    "\n",
    "                    mean_error = np.array(angles_ar) - np.array(angles_vi)\n",
    "                    diff_abs = np.abs(mean_error)\n",
    "                    cc = signal.correlate(np.array(angles_ar), np.array(angles_vi))\n",
    "\n",
    "                    # Enable if you are not running on Apple Silicon\n",
    "                    mInformation = 0 #pyi.mutual_info(np.round(angles_ar), np.round(angles_vi))\n",
    "\n",
    "                    pearson, pvalue, zTrafo, lci, uci = pearsonr_ci(angles_ar, angles_vi)\n",
    "                    spearman, sp_pvalue, sp_zTrafo, sp_lci, sp_uci = spearmanr_ci(angles_ar, angles_vi)\n",
    "\n",
    "                    with warnings.catch_warnings():\n",
    "                        # Ignore all caught warnings including FutureWarning from verbose\n",
    "                        warnings.filterwarnings(\"ignore\")\n",
    "\n",
    "                        gc_res = grangercausalitytests(\n",
    "                            pd.DataFrame([angles_ar, angles_vi]).transpose(),\n",
    "                            [60],\n",
    "                            verbose=False # Depricated\n",
    "                        )\n",
    "\n",
    "                    centerMoved = exercise in ['Squat', 'Front lunge', 'Jumping jacks', 'Side squat']\n",
    "                    lowerBody = angle[1] in ['leftHip', 'rightHip', 'leftKnee', 'rightKnee']\n",
    "                    leftBodySide = angle[1] in ['leftHip', 'leftKnee', 'leftElbow', 'leftShoulder']\n",
    "                    sex = subject in [3, 4, 7, 10]\n",
    "                    df_angles_ar = pd.DataFrame(data=angles_ar, columns=['Angle'])\n",
    "                    df_angles_ar['Framework'] = framework\n",
    "                    df_angles_ar['Frame'] = range(1, len(df_angles_ar) + 1)\n",
    "                    df_angles_vi = pd.DataFrame(data=angles_vi, columns=['Angle'])\n",
    "                    df_angles_vi['Framework'] = 'VICON'\n",
    "                    df_angles_vi['Frame'] = range(1, len(df_angles_vi) + 1)\n",
    "                    df_angles = pd.concat([df_angles_ar, df_angles_vi], ignore_index=True)\n",
    "\n",
    "                    d = {\n",
    "                        'Angle': [angle[1]],\n",
    "                        'Angle Categorization': [angle_categorization.loc[(exercise, view), angle[1]]],\n",
    "                        'View': [view],\n",
    "                        'Subject': [subject],\n",
    "                        'Exercise': [exercise],\n",
    "                        'Relevant': angle in relevant_angles[exercise],\n",
    "                        'MeanAbsoluteError': np.mean(diff_abs),\n",
    "                        'MeanError': np.mean(mean_error),\n",
    "                        'LogTrafoMAE': np.log(np.mean(diff_abs)),\n",
    "                        'TotalAbsoluteError': np.sum(diff_abs),\n",
    "                        'Overestimates': len(np.where(mean_error > 0.0)[0]) / len(diff_abs),\n",
    "                        'Underestimates': len(np.where(mean_error < 0.0)[0]) / len(diff_abs),\n",
    "                        'OverestimatesWeighted': np.sum(np.where(mean_error > 0.0)[0]) / len(diff_abs),\n",
    "                        'UnderestimatesWeighted': np.sum(np.where(mean_error < 0.0)[0]) / len(diff_abs),\n",
    "                        'SampleSize': len(diff_abs),\n",
    "                        'MutualInformation': mInformation,\n",
    "                        'PearsonCorrelation': pearson,\n",
    "                        'MAE99q': np.quantile(diff_abs, 0.99),\n",
    "                        'ME99q': np.quantile(mean_error, 0.99),\n",
    "                        'PearsonPValue': pvalue,\n",
    "                        'PearsonzTrafo': zTrafo,\n",
    "                        'PearsonLowerCI': lci,\n",
    "                        'PearsonUpperCI': uci,\n",
    "                        'SpearmanCorrelation': spearman,\n",
    "                        'SpearmanPValue': sp_pvalue,\n",
    "                        'GrangertestFValue': gc_res[60][0]['params_ftest'][0],\n",
    "                        'GrangertestPValue': gc_res[60][0]['params_ftest'][1],\n",
    "                        'CenterMoved': centerMoved,\n",
    "                        'LowerBody': lowerBody,\n",
    "                        'LeftBodySide': leftBodySide,\n",
    "                        'Sex': sex,\n",
    "                        'BaseLineDrift': shift,\n",
    "                        'BestError': best_error,\n",
    "                        'Valid': True,\n",
    "                        'ICC2': pg.intraclass_corr(data=df_angles, targets='Frame', raters='Framework',\n",
    "                                 ratings='Angle', nan_policy='omit')['ICC'][1],\n",
    "                    }\n",
    "                except Exception as e:\n",
    "                    print(e, 'Angle:', angle[1], 'View:', view, 'Subject:', subject, 'Exercise:', exercise)\n",
    "                    d = {\n",
    "                        'Angle': [angle[1]],\n",
    "                        'Angle Categorization': [angle_categorization.loc[(exercise, view), angle[1]]],\n",
    "                        'View': [view],\n",
    "                        'Subject': [subject],\n",
    "                        'Exercise': [exercise],\n",
    "                        'Relevant': 0,\n",
    "                        'MeanAbsoluteError': 0,\n",
    "                        'MeanError': 0,\n",
    "                        'LogTrafoMAE': 0,\n",
    "                        'TotalAbsoluteError': 0,\n",
    "                        'Overestimates': 0,\n",
    "                        'Underestimates': 0,\n",
    "                        'OverestimatesWeighted': 0,\n",
    "                        'UnderestimatesWeighted': 0,\n",
    "                        'SampleSize': 0,\n",
    "                        'MutualInformation': 0,\n",
    "                        'PearsonCorrelation': 0,\n",
    "                        'MAE99q': 0,\n",
    "                        'ME99q': 0,\n",
    "                        'PearsonPValue': 0,\n",
    "                        'PearsonzTrafo': 0,\n",
    "                        'PearsonLowerCI': 0,\n",
    "                        'PearsonUpperCI': 0,\n",
    "                        'SpearmanCorrelation': 0,\n",
    "                        'SpearmanPValue': 0,\n",
    "                        'GrangertestFValue': 0,\n",
    "                        'GrangertestPValue': 0,\n",
    "                        'CenterMoved': 0,\n",
    "                        'LeftBodySide': 0,\n",
    "                        'LowerBody': 0,\n",
    "                        'Sex': 0,\n",
    "                        'BaseLineDrift': 0,\n",
    "                        'BestError': 0,\n",
    "                        'Valid': False,\n",
    "                        'ICC2': 0,\n",
    "                    }\n",
    "\n",
    "                result = pd.concat([result, pd.DataFrame(data=d)], ignore_index=True)\n",
    "\n",
    "                if save_plot:\n",
    "                    if d['Valid'] == True:\n",
    "                        fig = plt.figure(figsize=(20,8))\n",
    "                        plt.plot(angles_ar, c='b', label=framework)\n",
    "\n",
    "                        plt.plot(angles_vi, c='g', label='Vicon')\n",
    "                        fig.suptitle(config, fontsize=20)\n",
    "                        plt.plot(diff_abs, c='r', label='Difference')\n",
    "                        plt.legend(loc='upper left')\n",
    "                        plt.savefig('./media/' + angle[1] + '_' + view + '_subject' + str(subject) + '_' + exercise)\n",
    "                        plt.close()"
   ]
  },
  {
   "cell_type": "markdown",
   "id": "starting-combat",
   "metadata": {},
   "source": [
    "### 4. Analysis of the results"
   ]
  },
  {
   "cell_type": "code",
   "execution_count": null,
   "id": "59424dfd-0cf9-4f04-99bf-c77719df89d6",
   "metadata": {},
   "outputs": [],
   "source": [
    "column_order = [\n",
    "    'leftElbow',\n",
    "    'rightElbow',\n",
    "    'leftShoulder',\n",
    "    'rightShoulder',\n",
    "    'leftHip',\n",
    "    'rightHip',\n",
    "    'leftKnee',\n",
    "    'rightKnee',\n",
    "]"
   ]
  },
  {
   "cell_type": "code",
   "execution_count": null,
   "id": "2e0b9e6e-70d8-4c6b-bed4-3eb7f133f8fd",
   "metadata": {},
   "outputs": [],
   "source": [
    "# Filter out the samples for which the calculation was successful\n",
    "result = result[result.Valid == True].copy()\n",
    "# Filter out View No Action\n",
    "result = result[result['Angle Categorization'] != 'Not Visible'].copy()\n",
    "n = len(result)\n",
    "result.index = range(0, n)\n",
    "print('Number of ', framework, '-Vicon time series comparisons:', n)"
   ]
  },
  {
   "cell_type": "code",
   "execution_count": null,
   "id": "9cb21853-72f0-41de-adf2-49b957ed540e",
   "metadata": {},
   "outputs": [],
   "source": [
    "result.loc[:, 'LogMAE'] = np.log(result['MeanAbsoluteError'])\n",
    "\n",
    "# Weighted aggregation wrt length of the time series\n",
    "wm = lambda x: np.average(x, weights=result.loc[x.index, \"SampleSize\"])\n",
    "wmstd = lambda x: weighted_avg_and_std(x, weights=result.loc[x.index, \"SampleSize\"])"
   ]
  },
  {
   "cell_type": "markdown",
   "id": "charged-quantity",
   "metadata": {},
   "source": [
    "#### 4.1 ANOVA"
   ]
  },
  {
   "cell_type": "code",
   "execution_count": null,
   "id": "norwegian-arbor",
   "metadata": {},
   "outputs": [],
   "source": [
    "anova_result = pd.DataFrame()\n",
    "for k in ['LogMAE']:\n",
    "    for i in ['Angle', 'Exercise', 'Subject', 'Angle Categorization']:\n",
    "        temp = result.welch_anova(dv=k, between=i)\n",
    "        temp['response'] = k\n",
    "        temp['categorical'] = i\n",
    "        anova_result = pd.concat([anova_result, temp], ignore_index=True)\n",
    "        \n",
    "anova_result.index = range(len(anova_result))"
   ]
  },
  {
   "cell_type": "code",
   "execution_count": null,
   "id": "indian-container",
   "metadata": {},
   "outputs": [],
   "source": [
    "anova_result"
   ]
  },
  {
   "cell_type": "code",
   "execution_count": null,
   "id": "01d4a299-b68c-43cc-823f-e850e480a71e",
   "metadata": {},
   "outputs": [],
   "source": [
    "anova_result_side = pd.DataFrame()\n",
    "for k in ['LogMAE']:\n",
    "    for i in ['Angle', 'Exercise', 'Subject']:\n",
    "        temp = result[result['Angle Categorization'] == 'Side View'].welch_anova(dv=k, between=i)\n",
    "        temp['response'] = k\n",
    "        temp['categorical'] = i\n",
    "        anova_result_side = pd.concat([anova_result_side, temp], ignore_index=True)\n",
    "        \n",
    "anova_result_side.index = range(len(anova_result_side))"
   ]
  },
  {
   "cell_type": "code",
   "execution_count": null,
   "id": "80949db9-697e-49fc-9f9c-9705de083697",
   "metadata": {},
   "outputs": [],
   "source": [
    "anova_result_side"
   ]
  },
  {
   "cell_type": "markdown",
   "id": "million-belief",
   "metadata": {},
   "source": [
    "#### 4.2 t-test"
   ]
  },
  {
   "cell_type": "code",
   "execution_count": null,
   "id": "based-grenada",
   "metadata": {},
   "outputs": [],
   "source": [
    "result['View_Number'] = result['View'].replace('Frontal', 0).replace('Side', 1)"
   ]
  },
  {
   "cell_type": "code",
   "execution_count": null,
   "id": "awful-investor",
   "metadata": {},
   "outputs": [],
   "source": [
    "ttest_result = pd.DataFrame()\n",
    "for k in ['LogMAE']:\n",
    "    for i in ['View_Number', 'CenterMoved', 'Sex']:\n",
    "        print(k, i)\n",
    "        x = result[result[i] == 0][k]\n",
    "        y = result[result[i] == 1][k]\n",
    "        temp = pg.ttest(x, y, correction=True)\n",
    "        temp['response'] = k\n",
    "        temp['categorical'] = i\n",
    "        ttest_result = pd.concat([ttest_result, temp], ignore_index=True)\n",
    "ttest_result.index = range(len(ttest_result))"
   ]
  },
  {
   "cell_type": "code",
   "execution_count": null,
   "id": "350ce1c2-e3a9-482c-aaca-37be8c746f9e",
   "metadata": {},
   "outputs": [],
   "source": [
    "ttest_result"
   ]
  },
  {
   "cell_type": "code",
   "execution_count": null,
   "id": "0b055c32-d4ae-4f12-8b4f-4b185b936e94",
   "metadata": {},
   "outputs": [],
   "source": [
    "ttest_result_side = pd.DataFrame()\n",
    "for k in ['LogMAE']:\n",
    "    for i in ['View_Number', 'CenterMoved', 'Sex']:\n",
    "        print(k, i)\n",
    "        result_temp = result[result['Angle Categorization'] == 'Side View']\n",
    "        x = result_temp[result_temp[i] == 0][k]\n",
    "        y = result_temp[result_temp[i] == 1][k]\n",
    "        temp = pg.ttest(x, y, correction=True)\n",
    "        temp['response'] = k\n",
    "        temp['categorical'] = i\n",
    "        ttest_result_side = pd.concat([ttest_result_side, temp], ignore_index=True)\n",
    "ttest_result_side.index = range(len(ttest_result_side))"
   ]
  },
  {
   "cell_type": "code",
   "execution_count": null,
   "id": "da92caa1-7512-4917-b03a-a8003b436825",
   "metadata": {},
   "outputs": [],
   "source": [
    "ttest_result_side"
   ]
  },
  {
   "cell_type": "markdown",
   "id": "confident-credit",
   "metadata": {},
   "source": [
    "#### 4.3 Mean Absolute Error"
   ]
  },
  {
   "cell_type": "code",
   "execution_count": null,
   "id": "crude-bottom",
   "metadata": {},
   "outputs": [],
   "source": [
    "print(\"Overall wMAE:\", result.MeanAbsoluteError.agg(wmstd))\n",
    "print(\"Side wMAE:\", result[result['Angle Categorization'] == 'Side View'].MeanAbsoluteError.agg(wmstd))"
   ]
  },
  {
   "cell_type": "code",
   "execution_count": null,
   "id": "tutorial-arthur",
   "metadata": {},
   "outputs": [],
   "source": [
    "agg_weighted_mae_w_std = pd.pivot_table(\n",
    "    result,\n",
    "    values='MeanAbsoluteError',\n",
    "    index=['Angle Categorization'],\n",
    "    columns=['Angle'],\n",
    "    aggfunc=wmstd\n",
    ")[column_order]\n",
    "agg_weighted_mae = pd.pivot_table(\n",
    "    result,\n",
    "    values='MeanAbsoluteError',\n",
    "    index=['Angle Categorization'],\n",
    "    columns=['Angle'],\n",
    "    aggfunc=wm\n",
    ")[column_order]"
   ]
  },
  {
   "cell_type": "code",
   "execution_count": null,
   "id": "053775ad",
   "metadata": {},
   "outputs": [],
   "source": [
    "styler = agg_weighted_mae.style\n",
    "styler.background_gradient(axis=None, cmap='RdYlGn_r', vmin=0.0, vmax= 45.0)\n",
    "styler"
   ]
  },
  {
   "cell_type": "code",
   "execution_count": null,
   "id": "sporting-islam",
   "metadata": {},
   "outputs": [],
   "source": [
    "agg_weighted_mae_w_std"
   ]
  },
  {
   "cell_type": "code",
   "execution_count": null,
   "id": "d93531c2",
   "metadata": {},
   "outputs": [],
   "source": [
    "weighted_MAEs_path = '../paper/weightedMAEs.xlsx'\n",
    "\n",
    "if not os.path.exists(os.path.dirname(weighted_MAEs_path)):\n",
    "    os.makedirs(os.path.dirname(weighted_MAEs_path))\n",
    "\n",
    "if not os.path.isfile(weighted_MAEs_path):\n",
    "    pd.DataFrame().to_excel(weighted_MAEs_path, index=False)\n",
    "\n",
    "with pd.ExcelWriter(weighted_MAEs_path, engine='openpyxl', mode='a') as writer:\n",
    "    styler.to_excel(writer, sheet_name=framework+'_int')\n",
    "    agg_weighted_mae_w_std.to_excel(writer, sheet_name=framework+'_std', engine='openpyxl')"
   ]
  },
  {
   "cell_type": "markdown",
   "id": "69b80efe",
   "metadata": {},
   "source": [
    "#### 4.4 ICCs"
   ]
  },
  {
   "cell_type": "code",
   "execution_count": null,
   "id": "outstanding-footage",
   "metadata": {},
   "outputs": [],
   "source": [
    "print(\"Overall weighted ICC2:\", result.ICC2.agg(wmstd))\n",
    "print(\"Side weighted ICC2:\", result[result['Angle Categorization'] == 'Side View'].ICC2.agg(wmstd))"
   ]
  },
  {
   "cell_type": "code",
   "execution_count": null,
   "id": "b651d1e3",
   "metadata": {},
   "outputs": [],
   "source": [
    "icc2_mae = pd.pivot_table(\n",
    "    result,\n",
    "    values='ICC2',\n",
    "    index=['Angle Categorization'],\n",
    "    columns=['Angle'],\n",
    "    aggfunc=wm\n",
    ")[column_order]\n",
    "icc2_mae_w_std = pd.pivot_table(\n",
    "    result,\n",
    "    values='ICC2',\n",
    "    index=['Angle Categorization'],\n",
    "    columns=['Angle'],\n",
    "    aggfunc=wmstd\n",
    ")[column_order]"
   ]
  },
  {
   "cell_type": "code",
   "execution_count": null,
   "id": "6326b357",
   "metadata": {},
   "outputs": [],
   "source": [
    "styler = icc2_mae.style\n",
    "styler.background_gradient(axis=None, cmap='RdYlGn', vmin=0.0, vmax= 1.0)\n",
    "styler"
   ]
  },
  {
   "cell_type": "code",
   "execution_count": null,
   "id": "4980338b",
   "metadata": {},
   "outputs": [],
   "source": [
    "icc2_mae_w_std"
   ]
  },
  {
   "cell_type": "code",
   "execution_count": null,
   "id": "56e857b7",
   "metadata": {},
   "outputs": [],
   "source": [
    "weighted_ICCs_path = '../paper/weightedICCs.xlsx'\n",
    "\n",
    "if not os.path.exists(os.path.dirname(weighted_ICCs_path)):\n",
    "    os.makedirs(os.path.dirname(weighted_ICCs_path))\n",
    "\n",
    "if not os.path.isfile(weighted_ICCs_path):\n",
    "    pd.DataFrame().to_excel(weighted_ICCs_path, index=False)\n",
    "    \n",
    "with pd.ExcelWriter(weighted_ICCs_path, engine='openpyxl', mode='a') as writer:\n",
    "    styler.to_excel(writer, sheet_name=framework+'_int')\n",
    "    icc2_mae_w_std.to_excel(writer, sheet_name=framework+'_std', engine='openpyxl')"
   ]
  }
 ],
 "metadata": {
  "kernelspec": {
   "display_name": "mediapipe_vs_vicon",
   "language": "python",
   "name": "mediapipe_vs_vicon"
  },
  "language_info": {
   "codemirror_mode": {
    "name": "ipython",
    "version": 3
   },
   "file_extension": ".py",
   "mimetype": "text/x-python",
   "name": "python",
   "nbconvert_exporter": "python",
   "pygments_lexer": "ipython3",
   "version": "3.9.16"
  },
  "vscode": {
   "interpreter": {
    "hash": "3976434749cb9b4d451913e34509a03d86645950926a817ef51608369a2805fa"
   }
  }
 },
 "nbformat": 4,
 "nbformat_minor": 5
}

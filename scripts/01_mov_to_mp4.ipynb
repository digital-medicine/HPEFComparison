{
 "cells": [
  {
   "cell_type": "markdown",
   "id": "9e782b28-2f51-490c-bfb1-4fd455661069",
   "metadata": {},
   "source": [
    "#### Title:          00_mov_to_mp4.ipynb\n",
    "#### Description:    Convert all .MOV files to .MP4 files\n",
    "#### Author:         Fabian Kahl"
   ]
  },
  {
   "cell_type": "code",
   "execution_count": null,
   "id": "f2511e2e",
   "metadata": {},
   "outputs": [],
   "source": [
    "import os\n",
    "from moviepy.editor import VideoFileClip"
   ]
  },
  {
   "cell_type": "code",
   "execution_count": null,
   "id": "4ef7d21c",
   "metadata": {},
   "outputs": [],
   "source": [
    "# Replace with the correct paths\n",
    "input_folder = '../data/vid_mov'\n",
    "output_folder = '../data/vid'"
   ]
  },
  {
   "cell_type": "code",
   "execution_count": null,
   "id": "f6b46510",
   "metadata": {},
   "outputs": [],
   "source": [
    "def convert_mov_to_mp4(input_folder, output_folder):\n",
    "    # Iterate through subdirectories in the input folder\n",
    "    for subdir in os.listdir(input_folder):\n",
    "        subdir_path = os.path.join(input_folder, subdir)\n",
    "\n",
    "        # Check if the item is a directory\n",
    "        if os.path.isdir(subdir_path):\n",
    "            # Create the corresponding subdirectory in the output folder if it doesn't exist\n",
    "            output_subdir_path = os.path.join(output_folder, subdir)\n",
    "            os.makedirs(output_subdir_path, exist_ok=True)\n",
    "\n",
    "            # Iterate through files in the subdirectory\n",
    "            for file in os.listdir(subdir_path):\n",
    "                # Check if the file is a .MOV video file\n",
    "                if file.lower().endswith('.mov'):\n",
    "                    # Construct the input and output file paths\n",
    "                    input_path = os.path.join(subdir_path, file)\n",
    "                    output_path = os.path.join(output_subdir_path, os.path.splitext(file)[0] + '.mp4')\n",
    "\n",
    "                    # Use moviepy to convert .MOV to .mp4\n",
    "                    clip = VideoFileClip(input_path)\n",
    "                    clip.write_videofile(output_path, codec='libx264', audio_codec='aac')\n",
    "\n",
    "                    print(f\"Converted: {input_path} -> {output_path}\")"
   ]
  },
  {
   "cell_type": "code",
   "execution_count": null,
   "id": "6026e5c1",
   "metadata": {},
   "outputs": [],
   "source": [
    "convert_mov_to_mp4(input_folder, output_folder)"
   ]
  }
 ],
 "metadata": {
  "kernelspec": {
   "display_name": "mediapipe_vs_vicon",
   "language": "python",
   "name": "mediapipe_vs_vicon"
  },
  "language_info": {
   "codemirror_mode": {
    "name": "ipython",
    "version": 3
   },
   "file_extension": ".py",
   "mimetype": "text/x-python",
   "name": "python",
   "nbconvert_exporter": "python",
   "pygments_lexer": "ipython3",
   "version": "3.9.16"
  }
 },
 "nbformat": 4,
 "nbformat_minor": 5
}

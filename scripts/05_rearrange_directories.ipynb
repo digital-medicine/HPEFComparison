{
 "cells": [
  {
   "cell_type": "markdown",
   "id": "b05e25a6-f220-49b8-a7d5-a8464d0d6a2f",
   "metadata": {},
   "source": [
    "#### Title:          05_rearrange_directories.ipynb\n",
    "#### Description:    Rearrange directories to match the expected order for later scripts\n",
    "#### Author:         Fabian Kahl"
   ]
  },
  {
   "cell_type": "code",
   "execution_count": 1,
   "id": "c190a5de",
   "metadata": {},
   "outputs": [],
   "source": [
    "import os\n",
    "import shutil"
   ]
  },
  {
   "cell_type": "code",
   "execution_count": 2,
   "id": "75999197",
   "metadata": {},
   "outputs": [],
   "source": [
    "source_directory = '../data/non_area_fileformat/frameworks'\n",
    "target_directory = '../data/area_fileformat/'"
   ]
  },
  {
   "cell_type": "code",
   "execution_count": 3,
   "id": "8c443148",
   "metadata": {
    "scrolled": true
   },
   "outputs": [],
   "source": [
    "# Get a list of all subdirectories in the source directory\n",
    "subdirectories = [name for name in os.listdir(source_directory) if os.path.isdir(os.path.join(source_directory, name))]\n",
    "\n",
    "# Iterate over the subdirectories\n",
    "for subdir in subdirectories:\n",
    "    subdir_path = os.path.join(source_directory, subdir)\n",
    "\n",
    "    # Get a list of all sub-subdirectories in the current subdirectory\n",
    "    subsubdirectories = [name for name in os.listdir(subdir_path) if os.path.isdir(os.path.join(subdir_path, name))]\n",
    "\n",
    "    # Iterate over the sub-subdirectories\n",
    "    for subsubdir in subsubdirectories:\n",
    "        subsubdir_path = os.path.join(subdir_path, subsubdir)\n",
    "\n",
    "        # Create the target subdirectory\n",
    "        target_subdir = os.path.join(target_directory, subsubdir, subdir)\n",
    "\n",
    "        # Copy files from the sub-subdirectory to the target directory\n",
    "        shutil.copytree(subsubdir_path, target_subdir)"
   ]
  }
 ],
 "metadata": {
  "kernelspec": {
   "display_name": "mediapipe_vs_vicon",
   "language": "python",
   "name": "mediapipe_vs_vicon"
  },
  "language_info": {
   "codemirror_mode": {
    "name": "ipython",
    "version": 3
   },
   "file_extension": ".py",
   "mimetype": "text/x-python",
   "name": "python",
   "nbconvert_exporter": "python",
   "pygments_lexer": "ipython3",
   "version": "3.9.16"
  }
 },
 "nbformat": 4,
 "nbformat_minor": 5
}

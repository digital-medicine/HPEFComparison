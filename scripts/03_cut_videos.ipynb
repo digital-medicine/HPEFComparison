{
 "cells": [
  {
   "cell_type": "markdown",
   "id": "3d113bac-c7dd-432f-9f57-305428066a12",
   "metadata": {},
   "source": [
    "#### Title:          03_cut_videos.ipynb\n",
    "#### Description:    Cut videos based on start and end times in subdir+'_cut.json'\n",
    "#### Author:         Fabian Kahl\n",
    "# cut videos and Vicon benchmark angles with any video cut tool first\n",
    "#### (Created with https://labelstud.io for this script)"
   ]
  },
  {
   "cell_type": "code",
   "execution_count": 1,
   "id": "cbc0b795",
   "metadata": {},
   "outputs": [],
   "source": [
    "import os\n",
    "import json\n",
    "from moviepy.video.io.VideoFileClip import VideoFileClip"
   ]
  },
  {
   "cell_type": "code",
   "execution_count": 2,
   "id": "63692307",
   "metadata": {},
   "outputs": [],
   "source": [
    "def cut_and_save_videos(input_folder, output_folder):\n",
    "    items = os.listdir(input_folder)\n",
    "    subdirs = [item for item in items if os.path.isdir(os.path.join(input_folder, item))]\n",
    "    for subdir in subdirs:\n",
    "        input_subdir = os.path.join(input_folder, subdir)\n",
    "        output_subdir = os.path.join(output_folder, subdir)\n",
    "        os.makedirs(output_subdir, exist_ok=True)\n",
    "        json_file = os.path.join(input_subdir, subdir+'_cut.json')\n",
    "        # Load the JSON file\n",
    "        with open(json_file, 'r') as f:\n",
    "            data = json.load(f)\n",
    "\n",
    "        # Iterate through each video entry in the JSON file\n",
    "        for entry in data:\n",
    "            video_url = entry[\"video_url\"].rsplit('-', 1)[-1]\n",
    "            start_time = entry[\"tricks\"][0][\"start\"]\n",
    "            end_time = entry[\"tricks\"][0][\"end\"]\n",
    "\n",
    "            # Construct the input and output file paths\n",
    "            input_path = os.path.join(input_subdir, video_url)\n",
    "            output_path = os.path.join(output_subdir, f\"{os.path.basename(video_url)}\")\n",
    "\n",
    "            # Ensure the input video file exists\n",
    "            if not os.path.exists(input_path):\n",
    "                print(f\"Error: Video file not found: {input_path}\")\n",
    "                continue\n",
    "\n",
    "            # Cut the video and save the result\n",
    "            cut_video(input_path, output_path, start_time, end_time)\n",
    "\n",
    "def cut_video(input_file, output_file, start_time, end_time):\n",
    "    # Load the video clip\n",
    "    clip = VideoFileClip(input_file)\n",
    "\n",
    "    # Cut the clip based on start and end times\n",
    "    cut_clip = clip.subclip(start_time, end_time)\n",
    "\n",
    "    # Write the cut clip to a new file\n",
    "    cut_clip.write_videofile(output_file, codec=\"libx264\", audio_codec=\"aac\")"
   ]
  },
  {
   "cell_type": "code",
   "execution_count": 3,
   "id": "3115bf13",
   "metadata": {
    "scrolled": true
   },
   "outputs": [
    {
     "name": "stdout",
     "output_type": "stream",
     "text": [
      "Moviepy - Building video ../data/vid_cut/03/03_Video_FrontLunge_Side.mp4.\n",
      "MoviePy - Writing audio in 03_Video_FrontLunge_SideTEMP_MPY_wvf_snd.mp4\n"
     ]
    },
    {
     "name": "stderr",
     "output_type": "stream",
     "text": [
      "                                                                                                               \r"
     ]
    },
    {
     "name": "stdout",
     "output_type": "stream",
     "text": [
      "MoviePy - Done.\n",
      "Moviepy - Writing video ../data/vid_cut/03/03_Video_FrontLunge_Side.mp4\n",
      "\n"
     ]
    },
    {
     "name": "stderr",
     "output_type": "stream",
     "text": [
      "                                                                                                               \r"
     ]
    },
    {
     "name": "stdout",
     "output_type": "stream",
     "text": [
      "Moviepy - Done !\n",
      "Moviepy - video ready ../data/vid_cut/03/03_Video_FrontLunge_Side.mp4\n",
      "Moviepy - Building video ../data/vid_cut/03/03_Video_SideSquat_Frontal.mp4.\n",
      "MoviePy - Writing audio in 03_Video_SideSquat_FrontalTEMP_MPY_wvf_snd.mp4\n"
     ]
    },
    {
     "name": "stderr",
     "output_type": "stream",
     "text": [
      "                                                                                                               \r"
     ]
    },
    {
     "name": "stdout",
     "output_type": "stream",
     "text": [
      "MoviePy - Done.\n",
      "Moviepy - Writing video ../data/vid_cut/03/03_Video_SideSquat_Frontal.mp4\n",
      "\n"
     ]
    },
    {
     "name": "stderr",
     "output_type": "stream",
     "text": [
      "                                                                                                               \r"
     ]
    },
    {
     "name": "stdout",
     "output_type": "stream",
     "text": [
      "Moviepy - Done !\n",
      "Moviepy - video ready ../data/vid_cut/03/03_Video_SideSquat_Frontal.mp4\n",
      "Moviepy - Building video ../data/vid_cut/03/03_Video_JumpingJacks_Frontal.mp4.\n",
      "MoviePy - Writing audio in 03_Video_JumpingJacks_FrontalTEMP_MPY_wvf_snd.mp4\n"
     ]
    },
    {
     "name": "stderr",
     "output_type": "stream",
     "text": [
      "                                                                                                               \r"
     ]
    },
    {
     "name": "stdout",
     "output_type": "stream",
     "text": [
      "MoviePy - Done.\n",
      "Moviepy - Writing video ../data/vid_cut/03/03_Video_JumpingJacks_Frontal.mp4\n",
      "\n"
     ]
    },
    {
     "name": "stderr",
     "output_type": "stream",
     "text": [
      "                                                                                                               \r"
     ]
    },
    {
     "name": "stdout",
     "output_type": "stream",
     "text": [
      "Moviepy - Done !\n",
      "Moviepy - video ready ../data/vid_cut/03/03_Video_JumpingJacks_Frontal.mp4\n",
      "Moviepy - Building video ../data/vid_cut/03/03_Video_ReverseFly_Frontal.mp4.\n",
      "MoviePy - Writing audio in 03_Video_ReverseFly_FrontalTEMP_MPY_wvf_snd.mp4\n"
     ]
    },
    {
     "name": "stderr",
     "output_type": "stream",
     "text": [
      "                                                                                                               \r"
     ]
    },
    {
     "name": "stdout",
     "output_type": "stream",
     "text": [
      "MoviePy - Done.\n",
      "Moviepy - Writing video ../data/vid_cut/03/03_Video_ReverseFly_Frontal.mp4\n",
      "\n"
     ]
    },
    {
     "name": "stderr",
     "output_type": "stream",
     "text": [
      "                                                                                                               \r"
     ]
    },
    {
     "name": "stdout",
     "output_type": "stream",
     "text": [
      "Moviepy - Done !\n",
      "Moviepy - video ready ../data/vid_cut/03/03_Video_ReverseFly_Frontal.mp4\n",
      "Moviepy - Building video ../data/vid_cut/03/03_Video_LegExtensionCrunch_Side.mp4.\n",
      "MoviePy - Writing audio in 03_Video_LegExtensionCrunch_SideTEMP_MPY_wvf_snd.mp4\n"
     ]
    },
    {
     "name": "stderr",
     "output_type": "stream",
     "text": [
      "                                                                                                               \r"
     ]
    },
    {
     "name": "stdout",
     "output_type": "stream",
     "text": [
      "MoviePy - Done.\n",
      "Moviepy - Writing video ../data/vid_cut/03/03_Video_LegExtensionCrunch_Side.mp4\n",
      "\n"
     ]
    },
    {
     "name": "stderr",
     "output_type": "stream",
     "text": [
      "                                                                                                               \r"
     ]
    },
    {
     "name": "stdout",
     "output_type": "stream",
     "text": [
      "Moviepy - Done !\n",
      "Moviepy - video ready ../data/vid_cut/03/03_Video_LegExtensionCrunch_Side.mp4\n",
      "Moviepy - Building video ../data/vid_cut/03/03_Video_Squat_Frontal.mp4.\n",
      "MoviePy - Writing audio in 03_Video_Squat_FrontalTEMP_MPY_wvf_snd.mp4\n"
     ]
    },
    {
     "name": "stderr",
     "output_type": "stream",
     "text": [
      "                                                                                                               \r"
     ]
    },
    {
     "name": "stdout",
     "output_type": "stream",
     "text": [
      "MoviePy - Done.\n",
      "Moviepy - Writing video ../data/vid_cut/03/03_Video_Squat_Frontal.mp4\n",
      "\n"
     ]
    },
    {
     "name": "stderr",
     "output_type": "stream",
     "text": [
      "                                                                                                               \r"
     ]
    },
    {
     "name": "stdout",
     "output_type": "stream",
     "text": [
      "Moviepy - Done !\n",
      "Moviepy - video ready ../data/vid_cut/03/03_Video_Squat_Frontal.mp4\n",
      "Moviepy - Building video ../data/vid_cut/03/03_Video_SideSquat_Side.mp4.\n",
      "MoviePy - Writing audio in 03_Video_SideSquat_SideTEMP_MPY_wvf_snd.mp4\n"
     ]
    },
    {
     "name": "stderr",
     "output_type": "stream",
     "text": [
      "                                                                                                               \r"
     ]
    },
    {
     "name": "stdout",
     "output_type": "stream",
     "text": [
      "MoviePy - Done.\n",
      "Moviepy - Writing video ../data/vid_cut/03/03_Video_SideSquat_Side.mp4\n",
      "\n"
     ]
    },
    {
     "name": "stderr",
     "output_type": "stream",
     "text": [
      "                                                                                                               \r"
     ]
    },
    {
     "name": "stdout",
     "output_type": "stream",
     "text": [
      "Moviepy - Done !\n",
      "Moviepy - video ready ../data/vid_cut/03/03_Video_SideSquat_Side.mp4\n",
      "Moviepy - Building video ../data/vid_cut/03/03_Video_SingleLegDeadlift_Side.mp4.\n",
      "MoviePy - Writing audio in 03_Video_SingleLegDeadlift_SideTEMP_MPY_wvf_snd.mp4\n"
     ]
    },
    {
     "name": "stderr",
     "output_type": "stream",
     "text": [
      "                                                                                                               \r"
     ]
    },
    {
     "name": "stdout",
     "output_type": "stream",
     "text": [
      "MoviePy - Done.\n",
      "Moviepy - Writing video ../data/vid_cut/03/03_Video_SingleLegDeadlift_Side.mp4\n",
      "\n"
     ]
    },
    {
     "name": "stderr",
     "output_type": "stream",
     "text": [
      "                                                                                                               \r"
     ]
    },
    {
     "name": "stdout",
     "output_type": "stream",
     "text": [
      "Moviepy - Done !\n",
      "Moviepy - video ready ../data/vid_cut/03/03_Video_SingleLegDeadlift_Side.mp4\n",
      "Moviepy - Building video ../data/vid_cut/03/03_Video_SingleLegDeadlift_Frontal.mp4.\n",
      "MoviePy - Writing audio in 03_Video_SingleLegDeadlift_FrontalTEMP_MPY_wvf_snd.mp4\n"
     ]
    },
    {
     "name": "stderr",
     "output_type": "stream",
     "text": [
      "                                                                                                               \r"
     ]
    },
    {
     "name": "stdout",
     "output_type": "stream",
     "text": [
      "MoviePy - Done.\n",
      "Moviepy - Writing video ../data/vid_cut/03/03_Video_SingleLegDeadlift_Frontal.mp4\n",
      "\n"
     ]
    },
    {
     "name": "stderr",
     "output_type": "stream",
     "text": [
      "                                                                                                               \r"
     ]
    },
    {
     "name": "stdout",
     "output_type": "stream",
     "text": [
      "Moviepy - Done !\n",
      "Moviepy - video ready ../data/vid_cut/03/03_Video_SingleLegDeadlift_Frontal.mp4\n",
      "Moviepy - Building video ../data/vid_cut/03/03_Video_JumpingJacks_Side.mp4.\n",
      "MoviePy - Writing audio in 03_Video_JumpingJacks_SideTEMP_MPY_wvf_snd.mp4\n"
     ]
    },
    {
     "name": "stderr",
     "output_type": "stream",
     "text": [
      "                                                                                                               \r"
     ]
    },
    {
     "name": "stdout",
     "output_type": "stream",
     "text": [
      "MoviePy - Done.\n",
      "Moviepy - Writing video ../data/vid_cut/03/03_Video_JumpingJacks_Side.mp4\n",
      "\n"
     ]
    },
    {
     "name": "stderr",
     "output_type": "stream",
     "text": [
      "                                                                                                               \r"
     ]
    },
    {
     "name": "stdout",
     "output_type": "stream",
     "text": [
      "Moviepy - Done !\n",
      "Moviepy - video ready ../data/vid_cut/03/03_Video_JumpingJacks_Side.mp4\n",
      "Moviepy - Building video ../data/vid_cut/03/03_Video_LateralArmRaise_Frontal.mp4.\n",
      "MoviePy - Writing audio in 03_Video_LateralArmRaise_FrontalTEMP_MPY_wvf_snd.mp4\n"
     ]
    },
    {
     "name": "stderr",
     "output_type": "stream",
     "text": [
      "                                                                                                               \r"
     ]
    },
    {
     "name": "stdout",
     "output_type": "stream",
     "text": [
      "MoviePy - Done.\n",
      "Moviepy - Writing video ../data/vid_cut/03/03_Video_LateralArmRaise_Frontal.mp4\n",
      "\n"
     ]
    },
    {
     "name": "stderr",
     "output_type": "stream",
     "text": [
      "                                                                                                               \r"
     ]
    },
    {
     "name": "stdout",
     "output_type": "stream",
     "text": [
      "Moviepy - Done !\n",
      "Moviepy - video ready ../data/vid_cut/03/03_Video_LateralArmRaise_Frontal.mp4\n",
      "Moviepy - Building video ../data/vid_cut/03/03_Video_LateralArmRaise_Side.mp4.\n",
      "MoviePy - Writing audio in 03_Video_LateralArmRaise_SideTEMP_MPY_wvf_snd.mp4\n"
     ]
    },
    {
     "name": "stderr",
     "output_type": "stream",
     "text": [
      "                                                                                                               \r"
     ]
    },
    {
     "name": "stdout",
     "output_type": "stream",
     "text": [
      "MoviePy - Done.\n",
      "Moviepy - Writing video ../data/vid_cut/03/03_Video_LateralArmRaise_Side.mp4\n",
      "\n"
     ]
    },
    {
     "name": "stderr",
     "output_type": "stream",
     "text": [
      "                                                                                                               \r"
     ]
    },
    {
     "name": "stdout",
     "output_type": "stream",
     "text": [
      "Moviepy - Done !\n",
      "Moviepy - video ready ../data/vid_cut/03/03_Video_LateralArmRaise_Side.mp4\n",
      "Moviepy - Building video ../data/vid_cut/03/03_Video_ReverseFly_Side.mp4.\n",
      "MoviePy - Writing audio in 03_Video_ReverseFly_SideTEMP_MPY_wvf_snd.mp4\n"
     ]
    },
    {
     "name": "stderr",
     "output_type": "stream",
     "text": [
      "                                                                                                               \r"
     ]
    },
    {
     "name": "stdout",
     "output_type": "stream",
     "text": [
      "MoviePy - Done.\n",
      "Moviepy - Writing video ../data/vid_cut/03/03_Video_ReverseFly_Side.mp4\n",
      "\n"
     ]
    },
    {
     "name": "stderr",
     "output_type": "stream",
     "text": [
      "                                                                                                               \r"
     ]
    },
    {
     "name": "stdout",
     "output_type": "stream",
     "text": [
      "Moviepy - Done !\n",
      "Moviepy - video ready ../data/vid_cut/03/03_Video_ReverseFly_Side.mp4\n",
      "Moviepy - Building video ../data/vid_cut/03/03_Video_LegExtensionCrunch_Frontal.mp4.\n",
      "MoviePy - Writing audio in 03_Video_LegExtensionCrunch_FrontalTEMP_MPY_wvf_snd.mp4\n"
     ]
    },
    {
     "name": "stderr",
     "output_type": "stream",
     "text": [
      "                                                                                                               \r"
     ]
    },
    {
     "name": "stdout",
     "output_type": "stream",
     "text": [
      "MoviePy - Done.\n",
      "Moviepy - Writing video ../data/vid_cut/03/03_Video_LegExtensionCrunch_Frontal.mp4\n",
      "\n"
     ]
    },
    {
     "name": "stderr",
     "output_type": "stream",
     "text": [
      "                                                                                                               \r"
     ]
    },
    {
     "name": "stdout",
     "output_type": "stream",
     "text": [
      "Moviepy - Done !\n",
      "Moviepy - video ready ../data/vid_cut/03/03_Video_LegExtensionCrunch_Frontal.mp4\n",
      "Moviepy - Building video ../data/vid_cut/03/03_Video_Squat_Side.mp4.\n",
      "MoviePy - Writing audio in 03_Video_Squat_SideTEMP_MPY_wvf_snd.mp4\n"
     ]
    },
    {
     "name": "stderr",
     "output_type": "stream",
     "text": [
      "                                                                                                               \r"
     ]
    },
    {
     "name": "stdout",
     "output_type": "stream",
     "text": [
      "MoviePy - Done.\n",
      "Moviepy - Writing video ../data/vid_cut/03/03_Video_Squat_Side.mp4\n",
      "\n"
     ]
    },
    {
     "name": "stderr",
     "output_type": "stream",
     "text": [
      "                                                                                                               \r"
     ]
    },
    {
     "name": "stdout",
     "output_type": "stream",
     "text": [
      "Moviepy - Done !\n",
      "Moviepy - video ready ../data/vid_cut/03/03_Video_Squat_Side.mp4\n",
      "Moviepy - Building video ../data/vid_cut/03/03_Video_FrontLunge_Frontal.mp4.\n",
      "MoviePy - Writing audio in 03_Video_FrontLunge_FrontalTEMP_MPY_wvf_snd.mp4\n"
     ]
    },
    {
     "name": "stderr",
     "output_type": "stream",
     "text": [
      "                                                                                                               \r"
     ]
    },
    {
     "name": "stdout",
     "output_type": "stream",
     "text": [
      "MoviePy - Done.\n",
      "Moviepy - Writing video ../data/vid_cut/03/03_Video_FrontLunge_Frontal.mp4\n",
      "\n"
     ]
    },
    {
     "name": "stderr",
     "output_type": "stream",
     "text": [
      "                                                                                                               \r"
     ]
    },
    {
     "name": "stdout",
     "output_type": "stream",
     "text": [
      "Moviepy - Done !\n",
      "Moviepy - video ready ../data/vid_cut/03/03_Video_FrontLunge_Frontal.mp4\n",
      "Moviepy - Building video ../data/vid_cut/04/04_Video_FrontLunge_Frontal.mp4.\n",
      "MoviePy - Writing audio in 04_Video_FrontLunge_FrontalTEMP_MPY_wvf_snd.mp4\n"
     ]
    },
    {
     "name": "stderr",
     "output_type": "stream",
     "text": [
      "                                                                                                               \r"
     ]
    },
    {
     "name": "stdout",
     "output_type": "stream",
     "text": [
      "MoviePy - Done.\n",
      "Moviepy - Writing video ../data/vid_cut/04/04_Video_FrontLunge_Frontal.mp4\n",
      "\n"
     ]
    },
    {
     "name": "stderr",
     "output_type": "stream",
     "text": [
      "                                                                                                               \r"
     ]
    },
    {
     "name": "stdout",
     "output_type": "stream",
     "text": [
      "Moviepy - Done !\n",
      "Moviepy - video ready ../data/vid_cut/04/04_Video_FrontLunge_Frontal.mp4\n",
      "Moviepy - Building video ../data/vid_cut/04/04_Video_FrontLunge_Side.mp4.\n",
      "MoviePy - Writing audio in 04_Video_FrontLunge_SideTEMP_MPY_wvf_snd.mp4\n"
     ]
    },
    {
     "name": "stderr",
     "output_type": "stream",
     "text": [
      "                                                                                                               \r"
     ]
    },
    {
     "name": "stdout",
     "output_type": "stream",
     "text": [
      "MoviePy - Done.\n",
      "Moviepy - Writing video ../data/vid_cut/04/04_Video_FrontLunge_Side.mp4\n",
      "\n"
     ]
    },
    {
     "name": "stderr",
     "output_type": "stream",
     "text": [
      "                                                                                                               \r"
     ]
    },
    {
     "name": "stdout",
     "output_type": "stream",
     "text": [
      "Moviepy - Done !\n",
      "Moviepy - video ready ../data/vid_cut/04/04_Video_FrontLunge_Side.mp4\n",
      "Moviepy - Building video ../data/vid_cut/04/04_Video_JumpingJacks_Frontal.mp4.\n",
      "MoviePy - Writing audio in 04_Video_JumpingJacks_FrontalTEMP_MPY_wvf_snd.mp4\n"
     ]
    },
    {
     "name": "stderr",
     "output_type": "stream",
     "text": [
      "                                                                                                               \r"
     ]
    },
    {
     "name": "stdout",
     "output_type": "stream",
     "text": [
      "MoviePy - Done.\n",
      "Moviepy - Writing video ../data/vid_cut/04/04_Video_JumpingJacks_Frontal.mp4\n",
      "\n"
     ]
    },
    {
     "name": "stderr",
     "output_type": "stream",
     "text": [
      "                                                                                                               \r"
     ]
    },
    {
     "name": "stdout",
     "output_type": "stream",
     "text": [
      "Moviepy - Done !\n",
      "Moviepy - video ready ../data/vid_cut/04/04_Video_JumpingJacks_Frontal.mp4\n",
      "Moviepy - Building video ../data/vid_cut/04/04_Video_JumpingJacks_Side.mp4.\n",
      "MoviePy - Writing audio in 04_Video_JumpingJacks_SideTEMP_MPY_wvf_snd.mp4\n"
     ]
    },
    {
     "name": "stderr",
     "output_type": "stream",
     "text": [
      "                                                                                                               \r"
     ]
    },
    {
     "name": "stdout",
     "output_type": "stream",
     "text": [
      "MoviePy - Done.\n",
      "Moviepy - Writing video ../data/vid_cut/04/04_Video_JumpingJacks_Side.mp4\n",
      "\n"
     ]
    },
    {
     "name": "stderr",
     "output_type": "stream",
     "text": [
      "                                                                                                               \r"
     ]
    },
    {
     "name": "stdout",
     "output_type": "stream",
     "text": [
      "Moviepy - Done !\n",
      "Moviepy - video ready ../data/vid_cut/04/04_Video_JumpingJacks_Side.mp4\n",
      "Moviepy - Building video ../data/vid_cut/04/04_Video_LateralArmRaise_Frontal.mp4.\n",
      "MoviePy - Writing audio in 04_Video_LateralArmRaise_FrontalTEMP_MPY_wvf_snd.mp4\n"
     ]
    },
    {
     "name": "stderr",
     "output_type": "stream",
     "text": [
      "                                                                                                               \r"
     ]
    },
    {
     "name": "stdout",
     "output_type": "stream",
     "text": [
      "MoviePy - Done.\n",
      "Moviepy - Writing video ../data/vid_cut/04/04_Video_LateralArmRaise_Frontal.mp4\n",
      "\n"
     ]
    },
    {
     "name": "stderr",
     "output_type": "stream",
     "text": [
      "                                                                                                               \r"
     ]
    },
    {
     "name": "stdout",
     "output_type": "stream",
     "text": [
      "Moviepy - Done !\n",
      "Moviepy - video ready ../data/vid_cut/04/04_Video_LateralArmRaise_Frontal.mp4\n",
      "Moviepy - Building video ../data/vid_cut/04/04_Video_LateralArmRaise_Side.mp4.\n",
      "MoviePy - Writing audio in 04_Video_LateralArmRaise_SideTEMP_MPY_wvf_snd.mp4\n"
     ]
    },
    {
     "name": "stderr",
     "output_type": "stream",
     "text": [
      "                                                                                                               \r"
     ]
    },
    {
     "name": "stdout",
     "output_type": "stream",
     "text": [
      "MoviePy - Done.\n",
      "Moviepy - Writing video ../data/vid_cut/04/04_Video_LateralArmRaise_Side.mp4\n",
      "\n"
     ]
    },
    {
     "name": "stderr",
     "output_type": "stream",
     "text": [
      "                                                                                                               \r"
     ]
    },
    {
     "name": "stdout",
     "output_type": "stream",
     "text": [
      "Moviepy - Done !\n",
      "Moviepy - video ready ../data/vid_cut/04/04_Video_LateralArmRaise_Side.mp4\n",
      "Moviepy - Building video ../data/vid_cut/04/04_Video_LegExtensionCrunch_Frontal.mp4.\n",
      "MoviePy - Writing audio in 04_Video_LegExtensionCrunch_FrontalTEMP_MPY_wvf_snd.mp4\n"
     ]
    },
    {
     "name": "stderr",
     "output_type": "stream",
     "text": [
      "                                                                                                               \r"
     ]
    },
    {
     "name": "stdout",
     "output_type": "stream",
     "text": [
      "MoviePy - Done.\n",
      "Moviepy - Writing video ../data/vid_cut/04/04_Video_LegExtensionCrunch_Frontal.mp4\n",
      "\n"
     ]
    },
    {
     "name": "stderr",
     "output_type": "stream",
     "text": [
      "                                                                                                               \r"
     ]
    },
    {
     "name": "stdout",
     "output_type": "stream",
     "text": [
      "Moviepy - Done !\n",
      "Moviepy - video ready ../data/vid_cut/04/04_Video_LegExtensionCrunch_Frontal.mp4\n",
      "Moviepy - Building video ../data/vid_cut/04/04_Video_LegExtensionCrunch_Side.mp4.\n",
      "MoviePy - Writing audio in 04_Video_LegExtensionCrunch_SideTEMP_MPY_wvf_snd.mp4\n"
     ]
    },
    {
     "name": "stderr",
     "output_type": "stream",
     "text": [
      "                                                                                                               \r"
     ]
    },
    {
     "name": "stdout",
     "output_type": "stream",
     "text": [
      "MoviePy - Done.\n",
      "Moviepy - Writing video ../data/vid_cut/04/04_Video_LegExtensionCrunch_Side.mp4\n",
      "\n"
     ]
    },
    {
     "name": "stderr",
     "output_type": "stream",
     "text": [
      "                                                                                                               \r"
     ]
    },
    {
     "name": "stdout",
     "output_type": "stream",
     "text": [
      "Moviepy - Done !\n",
      "Moviepy - video ready ../data/vid_cut/04/04_Video_LegExtensionCrunch_Side.mp4\n",
      "Moviepy - Building video ../data/vid_cut/04/04_Video_ReverseFly_Frontal.mp4.\n",
      "MoviePy - Writing audio in 04_Video_ReverseFly_FrontalTEMP_MPY_wvf_snd.mp4\n"
     ]
    },
    {
     "name": "stderr",
     "output_type": "stream",
     "text": [
      "                                                                                                               \r"
     ]
    },
    {
     "name": "stdout",
     "output_type": "stream",
     "text": [
      "MoviePy - Done.\n",
      "Moviepy - Writing video ../data/vid_cut/04/04_Video_ReverseFly_Frontal.mp4\n",
      "\n"
     ]
    },
    {
     "name": "stderr",
     "output_type": "stream",
     "text": [
      "                                                                                                               \r"
     ]
    },
    {
     "name": "stdout",
     "output_type": "stream",
     "text": [
      "Moviepy - Done !\n",
      "Moviepy - video ready ../data/vid_cut/04/04_Video_ReverseFly_Frontal.mp4\n",
      "Moviepy - Building video ../data/vid_cut/04/04_Video_ReverseFly_Side.mp4.\n",
      "MoviePy - Writing audio in 04_Video_ReverseFly_SideTEMP_MPY_wvf_snd.mp4\n"
     ]
    },
    {
     "name": "stderr",
     "output_type": "stream",
     "text": [
      "                                                                                                               \r"
     ]
    },
    {
     "name": "stdout",
     "output_type": "stream",
     "text": [
      "MoviePy - Done.\n",
      "Moviepy - Writing video ../data/vid_cut/04/04_Video_ReverseFly_Side.mp4\n",
      "\n"
     ]
    },
    {
     "name": "stderr",
     "output_type": "stream",
     "text": [
      "                                                                                                               \r"
     ]
    },
    {
     "name": "stdout",
     "output_type": "stream",
     "text": [
      "Moviepy - Done !\n",
      "Moviepy - video ready ../data/vid_cut/04/04_Video_ReverseFly_Side.mp4\n",
      "Moviepy - Building video ../data/vid_cut/04/04_Video_SideSquat_Frontal.mp4.\n",
      "MoviePy - Writing audio in 04_Video_SideSquat_FrontalTEMP_MPY_wvf_snd.mp4\n"
     ]
    },
    {
     "name": "stderr",
     "output_type": "stream",
     "text": [
      "                                                                                                               \r"
     ]
    },
    {
     "name": "stdout",
     "output_type": "stream",
     "text": [
      "MoviePy - Done.\n",
      "Moviepy - Writing video ../data/vid_cut/04/04_Video_SideSquat_Frontal.mp4\n",
      "\n"
     ]
    },
    {
     "name": "stderr",
     "output_type": "stream",
     "text": [
      "                                                                                                               \r"
     ]
    },
    {
     "name": "stdout",
     "output_type": "stream",
     "text": [
      "Moviepy - Done !\n",
      "Moviepy - video ready ../data/vid_cut/04/04_Video_SideSquat_Frontal.mp4\n",
      "Moviepy - Building video ../data/vid_cut/04/04_Video_SideSquat_Side.mp4.\n",
      "MoviePy - Writing audio in 04_Video_SideSquat_SideTEMP_MPY_wvf_snd.mp4\n"
     ]
    },
    {
     "name": "stderr",
     "output_type": "stream",
     "text": [
      "                                                                                                               \r"
     ]
    },
    {
     "name": "stdout",
     "output_type": "stream",
     "text": [
      "MoviePy - Done.\n",
      "Moviepy - Writing video ../data/vid_cut/04/04_Video_SideSquat_Side.mp4\n",
      "\n"
     ]
    },
    {
     "name": "stderr",
     "output_type": "stream",
     "text": [
      "                                                                                                               \r"
     ]
    },
    {
     "name": "stdout",
     "output_type": "stream",
     "text": [
      "Moviepy - Done !\n",
      "Moviepy - video ready ../data/vid_cut/04/04_Video_SideSquat_Side.mp4\n",
      "Moviepy - Building video ../data/vid_cut/04/04_Video_SingleLegDeadlift_Frontal.mp4.\n",
      "MoviePy - Writing audio in 04_Video_SingleLegDeadlift_FrontalTEMP_MPY_wvf_snd.mp4\n"
     ]
    },
    {
     "name": "stderr",
     "output_type": "stream",
     "text": [
      "                                                                                                               \r"
     ]
    },
    {
     "name": "stdout",
     "output_type": "stream",
     "text": [
      "MoviePy - Done.\n",
      "Moviepy - Writing video ../data/vid_cut/04/04_Video_SingleLegDeadlift_Frontal.mp4\n",
      "\n"
     ]
    },
    {
     "name": "stderr",
     "output_type": "stream",
     "text": [
      "                                                                                                               \r"
     ]
    },
    {
     "name": "stdout",
     "output_type": "stream",
     "text": [
      "Moviepy - Done !\n",
      "Moviepy - video ready ../data/vid_cut/04/04_Video_SingleLegDeadlift_Frontal.mp4\n",
      "Moviepy - Building video ../data/vid_cut/04/04_Video_SingleLegDeadlift_Side.mp4.\n",
      "MoviePy - Writing audio in 04_Video_SingleLegDeadlift_SideTEMP_MPY_wvf_snd.mp4\n"
     ]
    },
    {
     "name": "stderr",
     "output_type": "stream",
     "text": [
      "                                                                                                               \r"
     ]
    },
    {
     "name": "stdout",
     "output_type": "stream",
     "text": [
      "MoviePy - Done.\n",
      "Moviepy - Writing video ../data/vid_cut/04/04_Video_SingleLegDeadlift_Side.mp4\n",
      "\n"
     ]
    },
    {
     "name": "stderr",
     "output_type": "stream",
     "text": [
      "                                                                                                               \r"
     ]
    },
    {
     "name": "stdout",
     "output_type": "stream",
     "text": [
      "Moviepy - Done !\n",
      "Moviepy - video ready ../data/vid_cut/04/04_Video_SingleLegDeadlift_Side.mp4\n",
      "Moviepy - Building video ../data/vid_cut/04/04_Video_Squat_Frontal.mp4.\n",
      "MoviePy - Writing audio in 04_Video_Squat_FrontalTEMP_MPY_wvf_snd.mp4\n"
     ]
    },
    {
     "name": "stderr",
     "output_type": "stream",
     "text": [
      "                                                                                                               \r"
     ]
    },
    {
     "name": "stdout",
     "output_type": "stream",
     "text": [
      "MoviePy - Done.\n",
      "Moviepy - Writing video ../data/vid_cut/04/04_Video_Squat_Frontal.mp4\n",
      "\n"
     ]
    },
    {
     "name": "stderr",
     "output_type": "stream",
     "text": [
      "                                                                                                               \r"
     ]
    },
    {
     "name": "stdout",
     "output_type": "stream",
     "text": [
      "Moviepy - Done !\n",
      "Moviepy - video ready ../data/vid_cut/04/04_Video_Squat_Frontal.mp4\n",
      "Moviepy - Building video ../data/vid_cut/04/04_Video_Squat_Side.mp4.\n",
      "MoviePy - Writing audio in 04_Video_Squat_SideTEMP_MPY_wvf_snd.mp4\n"
     ]
    },
    {
     "name": "stderr",
     "output_type": "stream",
     "text": [
      "                                                                                                               \r"
     ]
    },
    {
     "name": "stdout",
     "output_type": "stream",
     "text": [
      "MoviePy - Done.\n",
      "Moviepy - Writing video ../data/vid_cut/04/04_Video_Squat_Side.mp4\n",
      "\n"
     ]
    },
    {
     "name": "stderr",
     "output_type": "stream",
     "text": [
      "                                                                                                               \r"
     ]
    },
    {
     "name": "stdout",
     "output_type": "stream",
     "text": [
      "Moviepy - Done !\n",
      "Moviepy - video ready ../data/vid_cut/04/04_Video_Squat_Side.mp4\n",
      "Moviepy - Building video ../data/vid_cut/02/02_Video_FrontLunge_Frontal.mp4.\n",
      "MoviePy - Writing audio in 02_Video_FrontLunge_FrontalTEMP_MPY_wvf_snd.mp4\n"
     ]
    },
    {
     "name": "stderr",
     "output_type": "stream",
     "text": [
      "                                                                                                               \r"
     ]
    },
    {
     "name": "stdout",
     "output_type": "stream",
     "text": [
      "MoviePy - Done.\n",
      "Moviepy - Writing video ../data/vid_cut/02/02_Video_FrontLunge_Frontal.mp4\n",
      "\n"
     ]
    },
    {
     "name": "stderr",
     "output_type": "stream",
     "text": [
      "                                                                                                               \r"
     ]
    },
    {
     "name": "stdout",
     "output_type": "stream",
     "text": [
      "Moviepy - Done !\n",
      "Moviepy - video ready ../data/vid_cut/02/02_Video_FrontLunge_Frontal.mp4\n",
      "Moviepy - Building video ../data/vid_cut/02/02_Video_FrontLunge_Side.mp4.\n",
      "MoviePy - Writing audio in 02_Video_FrontLunge_SideTEMP_MPY_wvf_snd.mp4\n"
     ]
    },
    {
     "name": "stderr",
     "output_type": "stream",
     "text": [
      "                                                                                                               \r"
     ]
    },
    {
     "name": "stdout",
     "output_type": "stream",
     "text": [
      "MoviePy - Done.\n",
      "Moviepy - Writing video ../data/vid_cut/02/02_Video_FrontLunge_Side.mp4\n",
      "\n"
     ]
    },
    {
     "name": "stderr",
     "output_type": "stream",
     "text": [
      "                                                                                                               \r"
     ]
    },
    {
     "name": "stdout",
     "output_type": "stream",
     "text": [
      "Moviepy - Done !\n",
      "Moviepy - video ready ../data/vid_cut/02/02_Video_FrontLunge_Side.mp4\n",
      "Moviepy - Building video ../data/vid_cut/02/02_Video_JumpingJacks_Frontal.mp4.\n",
      "MoviePy - Writing audio in 02_Video_JumpingJacks_FrontalTEMP_MPY_wvf_snd.mp4\n"
     ]
    },
    {
     "name": "stderr",
     "output_type": "stream",
     "text": [
      "                                                                                                               \r"
     ]
    },
    {
     "name": "stdout",
     "output_type": "stream",
     "text": [
      "MoviePy - Done.\n",
      "Moviepy - Writing video ../data/vid_cut/02/02_Video_JumpingJacks_Frontal.mp4\n",
      "\n"
     ]
    },
    {
     "name": "stderr",
     "output_type": "stream",
     "text": [
      "                                                                                                               \r"
     ]
    },
    {
     "name": "stdout",
     "output_type": "stream",
     "text": [
      "Moviepy - Done !\n",
      "Moviepy - video ready ../data/vid_cut/02/02_Video_JumpingJacks_Frontal.mp4\n",
      "Moviepy - Building video ../data/vid_cut/02/02_Video_JumpingJacks_Side.mp4.\n",
      "MoviePy - Writing audio in 02_Video_JumpingJacks_SideTEMP_MPY_wvf_snd.mp4\n"
     ]
    },
    {
     "name": "stderr",
     "output_type": "stream",
     "text": [
      "                                                                                                               \r"
     ]
    },
    {
     "name": "stdout",
     "output_type": "stream",
     "text": [
      "MoviePy - Done.\n",
      "Moviepy - Writing video ../data/vid_cut/02/02_Video_JumpingJacks_Side.mp4\n",
      "\n"
     ]
    },
    {
     "name": "stderr",
     "output_type": "stream",
     "text": [
      "                                                                                                               \r"
     ]
    },
    {
     "name": "stdout",
     "output_type": "stream",
     "text": [
      "Moviepy - Done !\n",
      "Moviepy - video ready ../data/vid_cut/02/02_Video_JumpingJacks_Side.mp4\n",
      "Moviepy - Building video ../data/vid_cut/02/02_Video_LateralArmRaise_Frontal.mp4.\n",
      "MoviePy - Writing audio in 02_Video_LateralArmRaise_FrontalTEMP_MPY_wvf_snd.mp4\n"
     ]
    },
    {
     "name": "stderr",
     "output_type": "stream",
     "text": [
      "                                                                                                               \r"
     ]
    },
    {
     "name": "stdout",
     "output_type": "stream",
     "text": [
      "MoviePy - Done.\n",
      "Moviepy - Writing video ../data/vid_cut/02/02_Video_LateralArmRaise_Frontal.mp4\n",
      "\n"
     ]
    },
    {
     "name": "stderr",
     "output_type": "stream",
     "text": [
      "                                                                                                               \r"
     ]
    },
    {
     "name": "stdout",
     "output_type": "stream",
     "text": [
      "Moviepy - Done !\n",
      "Moviepy - video ready ../data/vid_cut/02/02_Video_LateralArmRaise_Frontal.mp4\n",
      "Moviepy - Building video ../data/vid_cut/02/02_Video_LateralArmRaise_Side.mp4.\n",
      "MoviePy - Writing audio in 02_Video_LateralArmRaise_SideTEMP_MPY_wvf_snd.mp4\n"
     ]
    },
    {
     "name": "stderr",
     "output_type": "stream",
     "text": [
      "                                                                                                               \r"
     ]
    },
    {
     "name": "stdout",
     "output_type": "stream",
     "text": [
      "MoviePy - Done.\n",
      "Moviepy - Writing video ../data/vid_cut/02/02_Video_LateralArmRaise_Side.mp4\n",
      "\n"
     ]
    },
    {
     "name": "stderr",
     "output_type": "stream",
     "text": [
      "                                                                                                               \r"
     ]
    },
    {
     "name": "stdout",
     "output_type": "stream",
     "text": [
      "Moviepy - Done !\n",
      "Moviepy - video ready ../data/vid_cut/02/02_Video_LateralArmRaise_Side.mp4\n",
      "Moviepy - Building video ../data/vid_cut/02/02_Video_LegExtensionCrunch_Frontal.mp4.\n",
      "MoviePy - Writing audio in 02_Video_LegExtensionCrunch_FrontalTEMP_MPY_wvf_snd.mp4\n"
     ]
    },
    {
     "name": "stderr",
     "output_type": "stream",
     "text": [
      "                                                                                                               \r"
     ]
    },
    {
     "name": "stdout",
     "output_type": "stream",
     "text": [
      "MoviePy - Done.\n",
      "Moviepy - Writing video ../data/vid_cut/02/02_Video_LegExtensionCrunch_Frontal.mp4\n",
      "\n"
     ]
    },
    {
     "name": "stderr",
     "output_type": "stream",
     "text": [
      "                                                                                                               \r"
     ]
    },
    {
     "name": "stdout",
     "output_type": "stream",
     "text": [
      "Moviepy - Done !\n",
      "Moviepy - video ready ../data/vid_cut/02/02_Video_LegExtensionCrunch_Frontal.mp4\n",
      "Moviepy - Building video ../data/vid_cut/02/02_Video_LegExtensionCrunch_Side.mp4.\n",
      "MoviePy - Writing audio in 02_Video_LegExtensionCrunch_SideTEMP_MPY_wvf_snd.mp4\n"
     ]
    },
    {
     "name": "stderr",
     "output_type": "stream",
     "text": [
      "                                                                                                               \r"
     ]
    },
    {
     "name": "stdout",
     "output_type": "stream",
     "text": [
      "MoviePy - Done.\n",
      "Moviepy - Writing video ../data/vid_cut/02/02_Video_LegExtensionCrunch_Side.mp4\n",
      "\n"
     ]
    },
    {
     "name": "stderr",
     "output_type": "stream",
     "text": [
      "                                                                                                               \r"
     ]
    },
    {
     "name": "stdout",
     "output_type": "stream",
     "text": [
      "Moviepy - Done !\n",
      "Moviepy - video ready ../data/vid_cut/02/02_Video_LegExtensionCrunch_Side.mp4\n",
      "Moviepy - Building video ../data/vid_cut/02/02_Video_ReverseFly_Frontal.mp4.\n",
      "MoviePy - Writing audio in 02_Video_ReverseFly_FrontalTEMP_MPY_wvf_snd.mp4\n"
     ]
    },
    {
     "name": "stderr",
     "output_type": "stream",
     "text": [
      "                                                                                                               \r"
     ]
    },
    {
     "name": "stdout",
     "output_type": "stream",
     "text": [
      "MoviePy - Done.\n",
      "Moviepy - Writing video ../data/vid_cut/02/02_Video_ReverseFly_Frontal.mp4\n",
      "\n"
     ]
    },
    {
     "name": "stderr",
     "output_type": "stream",
     "text": [
      "                                                                                                               \r"
     ]
    },
    {
     "name": "stdout",
     "output_type": "stream",
     "text": [
      "Moviepy - Done !\n",
      "Moviepy - video ready ../data/vid_cut/02/02_Video_ReverseFly_Frontal.mp4\n",
      "Moviepy - Building video ../data/vid_cut/02/02_Video_ReverseFly_Side.mp4.\n",
      "MoviePy - Writing audio in 02_Video_ReverseFly_SideTEMP_MPY_wvf_snd.mp4\n"
     ]
    },
    {
     "name": "stderr",
     "output_type": "stream",
     "text": [
      "                                                                                                               \r"
     ]
    },
    {
     "name": "stdout",
     "output_type": "stream",
     "text": [
      "MoviePy - Done.\n",
      "Moviepy - Writing video ../data/vid_cut/02/02_Video_ReverseFly_Side.mp4\n",
      "\n"
     ]
    },
    {
     "name": "stderr",
     "output_type": "stream",
     "text": [
      "                                                                                                               \r"
     ]
    },
    {
     "name": "stdout",
     "output_type": "stream",
     "text": [
      "Moviepy - Done !\n",
      "Moviepy - video ready ../data/vid_cut/02/02_Video_ReverseFly_Side.mp4\n",
      "Moviepy - Building video ../data/vid_cut/02/02_Video_SideSquat_Frontal.mp4.\n",
      "MoviePy - Writing audio in 02_Video_SideSquat_FrontalTEMP_MPY_wvf_snd.mp4\n"
     ]
    },
    {
     "name": "stderr",
     "output_type": "stream",
     "text": [
      "                                                                                                               \r"
     ]
    },
    {
     "name": "stdout",
     "output_type": "stream",
     "text": [
      "MoviePy - Done.\n",
      "Moviepy - Writing video ../data/vid_cut/02/02_Video_SideSquat_Frontal.mp4\n",
      "\n"
     ]
    },
    {
     "name": "stderr",
     "output_type": "stream",
     "text": [
      "                                                                                                               \r"
     ]
    },
    {
     "name": "stdout",
     "output_type": "stream",
     "text": [
      "Moviepy - Done !\n",
      "Moviepy - video ready ../data/vid_cut/02/02_Video_SideSquat_Frontal.mp4\n",
      "Moviepy - Building video ../data/vid_cut/02/02_Video_SideSquat_Side.mp4.\n",
      "MoviePy - Writing audio in 02_Video_SideSquat_SideTEMP_MPY_wvf_snd.mp4\n"
     ]
    },
    {
     "name": "stderr",
     "output_type": "stream",
     "text": [
      "                                                                                                               \r"
     ]
    },
    {
     "name": "stdout",
     "output_type": "stream",
     "text": [
      "MoviePy - Done.\n",
      "Moviepy - Writing video ../data/vid_cut/02/02_Video_SideSquat_Side.mp4\n",
      "\n"
     ]
    },
    {
     "name": "stderr",
     "output_type": "stream",
     "text": [
      "                                                                                                               \r"
     ]
    },
    {
     "name": "stdout",
     "output_type": "stream",
     "text": [
      "Moviepy - Done !\n",
      "Moviepy - video ready ../data/vid_cut/02/02_Video_SideSquat_Side.mp4\n",
      "Moviepy - Building video ../data/vid_cut/02/02_Video_SingleLegDeadlift_Frontal.mp4.\n",
      "MoviePy - Writing audio in 02_Video_SingleLegDeadlift_FrontalTEMP_MPY_wvf_snd.mp4\n"
     ]
    },
    {
     "name": "stderr",
     "output_type": "stream",
     "text": [
      "                                                                                                               \r"
     ]
    },
    {
     "name": "stdout",
     "output_type": "stream",
     "text": [
      "MoviePy - Done.\n",
      "Moviepy - Writing video ../data/vid_cut/02/02_Video_SingleLegDeadlift_Frontal.mp4\n",
      "\n"
     ]
    },
    {
     "name": "stderr",
     "output_type": "stream",
     "text": [
      "                                                                                                               \r"
     ]
    },
    {
     "name": "stdout",
     "output_type": "stream",
     "text": [
      "Moviepy - Done !\n",
      "Moviepy - video ready ../data/vid_cut/02/02_Video_SingleLegDeadlift_Frontal.mp4\n",
      "Moviepy - Building video ../data/vid_cut/02/02_Video_SingleLegDeadlift_Side.mp4.\n",
      "MoviePy - Writing audio in 02_Video_SingleLegDeadlift_SideTEMP_MPY_wvf_snd.mp4\n"
     ]
    },
    {
     "name": "stderr",
     "output_type": "stream",
     "text": [
      "                                                                                                               \r"
     ]
    },
    {
     "name": "stdout",
     "output_type": "stream",
     "text": [
      "MoviePy - Done.\n",
      "Moviepy - Writing video ../data/vid_cut/02/02_Video_SingleLegDeadlift_Side.mp4\n",
      "\n"
     ]
    },
    {
     "name": "stderr",
     "output_type": "stream",
     "text": [
      "                                                                                                               \r"
     ]
    },
    {
     "name": "stdout",
     "output_type": "stream",
     "text": [
      "Moviepy - Done !\n",
      "Moviepy - video ready ../data/vid_cut/02/02_Video_SingleLegDeadlift_Side.mp4\n",
      "Moviepy - Building video ../data/vid_cut/02/02_Video_Squat_Frontal.mp4.\n",
      "MoviePy - Writing audio in 02_Video_Squat_FrontalTEMP_MPY_wvf_snd.mp4\n"
     ]
    },
    {
     "name": "stderr",
     "output_type": "stream",
     "text": [
      "                                                                                                               \r"
     ]
    },
    {
     "name": "stdout",
     "output_type": "stream",
     "text": [
      "MoviePy - Done.\n",
      "Moviepy - Writing video ../data/vid_cut/02/02_Video_Squat_Frontal.mp4\n",
      "\n"
     ]
    },
    {
     "name": "stderr",
     "output_type": "stream",
     "text": [
      "                                                                                                               \r"
     ]
    },
    {
     "name": "stdout",
     "output_type": "stream",
     "text": [
      "Moviepy - Done !\n",
      "Moviepy - video ready ../data/vid_cut/02/02_Video_Squat_Frontal.mp4\n",
      "Moviepy - Building video ../data/vid_cut/02/02_Video_Squat_Side.mp4.\n",
      "MoviePy - Writing audio in 02_Video_Squat_SideTEMP_MPY_wvf_snd.mp4\n"
     ]
    },
    {
     "name": "stderr",
     "output_type": "stream",
     "text": [
      "                                                                                                               \r"
     ]
    },
    {
     "name": "stdout",
     "output_type": "stream",
     "text": [
      "MoviePy - Done.\n",
      "Moviepy - Writing video ../data/vid_cut/02/02_Video_Squat_Side.mp4\n",
      "\n"
     ]
    },
    {
     "name": "stderr",
     "output_type": "stream",
     "text": [
      "                                                                                                               \r"
     ]
    },
    {
     "name": "stdout",
     "output_type": "stream",
     "text": [
      "Moviepy - Done !\n",
      "Moviepy - video ready ../data/vid_cut/02/02_Video_Squat_Side.mp4\n",
      "Moviepy - Building video ../data/vid_cut/10/10_Video_FrontLunge_Frontal.mp4.\n",
      "MoviePy - Writing audio in 10_Video_FrontLunge_FrontalTEMP_MPY_wvf_snd.mp4\n"
     ]
    },
    {
     "name": "stderr",
     "output_type": "stream",
     "text": [
      "                                                                                                               \r"
     ]
    },
    {
     "name": "stdout",
     "output_type": "stream",
     "text": [
      "MoviePy - Done.\n",
      "Moviepy - Writing video ../data/vid_cut/10/10_Video_FrontLunge_Frontal.mp4\n",
      "\n"
     ]
    },
    {
     "name": "stderr",
     "output_type": "stream",
     "text": [
      "                                                                                                               \r"
     ]
    },
    {
     "name": "stdout",
     "output_type": "stream",
     "text": [
      "Moviepy - Done !\n",
      "Moviepy - video ready ../data/vid_cut/10/10_Video_FrontLunge_Frontal.mp4\n",
      "Moviepy - Building video ../data/vid_cut/10/10_Video_FrontLunge_Side.mp4.\n",
      "MoviePy - Writing audio in 10_Video_FrontLunge_SideTEMP_MPY_wvf_snd.mp4\n"
     ]
    },
    {
     "name": "stderr",
     "output_type": "stream",
     "text": [
      "                                                                                                               \r"
     ]
    },
    {
     "name": "stdout",
     "output_type": "stream",
     "text": [
      "MoviePy - Done.\n",
      "Moviepy - Writing video ../data/vid_cut/10/10_Video_FrontLunge_Side.mp4\n",
      "\n"
     ]
    },
    {
     "name": "stderr",
     "output_type": "stream",
     "text": [
      "                                                                                                               \r"
     ]
    },
    {
     "name": "stdout",
     "output_type": "stream",
     "text": [
      "Moviepy - Done !\n",
      "Moviepy - video ready ../data/vid_cut/10/10_Video_FrontLunge_Side.mp4\n",
      "Moviepy - Building video ../data/vid_cut/10/10_Video_JumpingJacks_Frontal.mp4.\n",
      "MoviePy - Writing audio in 10_Video_JumpingJacks_FrontalTEMP_MPY_wvf_snd.mp4\n"
     ]
    },
    {
     "name": "stderr",
     "output_type": "stream",
     "text": [
      "                                                                                                               \r"
     ]
    },
    {
     "name": "stdout",
     "output_type": "stream",
     "text": [
      "MoviePy - Done.\n",
      "Moviepy - Writing video ../data/vid_cut/10/10_Video_JumpingJacks_Frontal.mp4\n",
      "\n"
     ]
    },
    {
     "name": "stderr",
     "output_type": "stream",
     "text": [
      "                                                                                                               \r"
     ]
    },
    {
     "name": "stdout",
     "output_type": "stream",
     "text": [
      "Moviepy - Done !\n",
      "Moviepy - video ready ../data/vid_cut/10/10_Video_JumpingJacks_Frontal.mp4\n",
      "Moviepy - Building video ../data/vid_cut/10/10_Video_JumpingJacks_Side.mp4.\n",
      "MoviePy - Writing audio in 10_Video_JumpingJacks_SideTEMP_MPY_wvf_snd.mp4\n"
     ]
    },
    {
     "name": "stderr",
     "output_type": "stream",
     "text": [
      "                                                                                                               \r"
     ]
    },
    {
     "name": "stdout",
     "output_type": "stream",
     "text": [
      "MoviePy - Done.\n",
      "Moviepy - Writing video ../data/vid_cut/10/10_Video_JumpingJacks_Side.mp4\n",
      "\n"
     ]
    },
    {
     "name": "stderr",
     "output_type": "stream",
     "text": [
      "                                                                                                               \r"
     ]
    },
    {
     "name": "stdout",
     "output_type": "stream",
     "text": [
      "Moviepy - Done !\n",
      "Moviepy - video ready ../data/vid_cut/10/10_Video_JumpingJacks_Side.mp4\n",
      "Moviepy - Building video ../data/vid_cut/10/10_Video_LateralArmRaise_Frontal.mp4.\n",
      "MoviePy - Writing audio in 10_Video_LateralArmRaise_FrontalTEMP_MPY_wvf_snd.mp4\n"
     ]
    },
    {
     "name": "stderr",
     "output_type": "stream",
     "text": [
      "                                                                                                               \r"
     ]
    },
    {
     "name": "stdout",
     "output_type": "stream",
     "text": [
      "MoviePy - Done.\n",
      "Moviepy - Writing video ../data/vid_cut/10/10_Video_LateralArmRaise_Frontal.mp4\n",
      "\n"
     ]
    },
    {
     "name": "stderr",
     "output_type": "stream",
     "text": [
      "                                                                                                               \r"
     ]
    },
    {
     "name": "stdout",
     "output_type": "stream",
     "text": [
      "Moviepy - Done !\n",
      "Moviepy - video ready ../data/vid_cut/10/10_Video_LateralArmRaise_Frontal.mp4\n",
      "Moviepy - Building video ../data/vid_cut/10/10_Video_LateralArmRaise_Side.mp4.\n",
      "MoviePy - Writing audio in 10_Video_LateralArmRaise_SideTEMP_MPY_wvf_snd.mp4\n"
     ]
    },
    {
     "name": "stderr",
     "output_type": "stream",
     "text": [
      "                                                                                                               \r"
     ]
    },
    {
     "name": "stdout",
     "output_type": "stream",
     "text": [
      "MoviePy - Done.\n",
      "Moviepy - Writing video ../data/vid_cut/10/10_Video_LateralArmRaise_Side.mp4\n",
      "\n"
     ]
    },
    {
     "name": "stderr",
     "output_type": "stream",
     "text": [
      "                                                                                                               \r"
     ]
    },
    {
     "name": "stdout",
     "output_type": "stream",
     "text": [
      "Moviepy - Done !\n",
      "Moviepy - video ready ../data/vid_cut/10/10_Video_LateralArmRaise_Side.mp4\n",
      "Moviepy - Building video ../data/vid_cut/10/10_Video_LegExtensionCrunch_Frontal.mp4.\n",
      "MoviePy - Writing audio in 10_Video_LegExtensionCrunch_FrontalTEMP_MPY_wvf_snd.mp4\n"
     ]
    },
    {
     "name": "stderr",
     "output_type": "stream",
     "text": [
      "                                                                                                               \r"
     ]
    },
    {
     "name": "stdout",
     "output_type": "stream",
     "text": [
      "MoviePy - Done.\n",
      "Moviepy - Writing video ../data/vid_cut/10/10_Video_LegExtensionCrunch_Frontal.mp4\n",
      "\n"
     ]
    },
    {
     "name": "stderr",
     "output_type": "stream",
     "text": [
      "                                                                                                               \r"
     ]
    },
    {
     "name": "stdout",
     "output_type": "stream",
     "text": [
      "Moviepy - Done !\n",
      "Moviepy - video ready ../data/vid_cut/10/10_Video_LegExtensionCrunch_Frontal.mp4\n",
      "Moviepy - Building video ../data/vid_cut/10/10_Video_LegExtensionCrunch_Side.mp4.\n",
      "MoviePy - Writing audio in 10_Video_LegExtensionCrunch_SideTEMP_MPY_wvf_snd.mp4\n"
     ]
    },
    {
     "name": "stderr",
     "output_type": "stream",
     "text": [
      "                                                                                                               \r"
     ]
    },
    {
     "name": "stdout",
     "output_type": "stream",
     "text": [
      "MoviePy - Done.\n",
      "Moviepy - Writing video ../data/vid_cut/10/10_Video_LegExtensionCrunch_Side.mp4\n",
      "\n"
     ]
    },
    {
     "name": "stderr",
     "output_type": "stream",
     "text": [
      "                                                                                                               \r"
     ]
    },
    {
     "name": "stdout",
     "output_type": "stream",
     "text": [
      "Moviepy - Done !\n",
      "Moviepy - video ready ../data/vid_cut/10/10_Video_LegExtensionCrunch_Side.mp4\n",
      "Moviepy - Building video ../data/vid_cut/10/10_Video_ReverseFly_Frontal.mp4.\n",
      "MoviePy - Writing audio in 10_Video_ReverseFly_FrontalTEMP_MPY_wvf_snd.mp4\n"
     ]
    },
    {
     "name": "stderr",
     "output_type": "stream",
     "text": [
      "                                                                                                               \r"
     ]
    },
    {
     "name": "stdout",
     "output_type": "stream",
     "text": [
      "MoviePy - Done.\n",
      "Moviepy - Writing video ../data/vid_cut/10/10_Video_ReverseFly_Frontal.mp4\n",
      "\n"
     ]
    },
    {
     "name": "stderr",
     "output_type": "stream",
     "text": [
      "                                                                                                               \r"
     ]
    },
    {
     "name": "stdout",
     "output_type": "stream",
     "text": [
      "Moviepy - Done !\n",
      "Moviepy - video ready ../data/vid_cut/10/10_Video_ReverseFly_Frontal.mp4\n",
      "Moviepy - Building video ../data/vid_cut/10/10_Video_ReverseFly_Side.mp4.\n",
      "MoviePy - Writing audio in 10_Video_ReverseFly_SideTEMP_MPY_wvf_snd.mp4\n"
     ]
    },
    {
     "name": "stderr",
     "output_type": "stream",
     "text": [
      "                                                                                                               \r"
     ]
    },
    {
     "name": "stdout",
     "output_type": "stream",
     "text": [
      "MoviePy - Done.\n",
      "Moviepy - Writing video ../data/vid_cut/10/10_Video_ReverseFly_Side.mp4\n",
      "\n"
     ]
    },
    {
     "name": "stderr",
     "output_type": "stream",
     "text": [
      "                                                                                                               \r"
     ]
    },
    {
     "name": "stdout",
     "output_type": "stream",
     "text": [
      "Moviepy - Done !\n",
      "Moviepy - video ready ../data/vid_cut/10/10_Video_ReverseFly_Side.mp4\n",
      "Moviepy - Building video ../data/vid_cut/10/10_Video_SideSquat_Frontal.mp4.\n",
      "MoviePy - Writing audio in 10_Video_SideSquat_FrontalTEMP_MPY_wvf_snd.mp4\n"
     ]
    },
    {
     "name": "stderr",
     "output_type": "stream",
     "text": [
      "                                                                                                               \r"
     ]
    },
    {
     "name": "stdout",
     "output_type": "stream",
     "text": [
      "MoviePy - Done.\n",
      "Moviepy - Writing video ../data/vid_cut/10/10_Video_SideSquat_Frontal.mp4\n",
      "\n"
     ]
    },
    {
     "name": "stderr",
     "output_type": "stream",
     "text": [
      "                                                                                                               \r"
     ]
    },
    {
     "name": "stdout",
     "output_type": "stream",
     "text": [
      "Moviepy - Done !\n",
      "Moviepy - video ready ../data/vid_cut/10/10_Video_SideSquat_Frontal.mp4\n",
      "Moviepy - Building video ../data/vid_cut/10/10_Video_SideSquat_Side.mp4.\n",
      "MoviePy - Writing audio in 10_Video_SideSquat_SideTEMP_MPY_wvf_snd.mp4\n"
     ]
    },
    {
     "name": "stderr",
     "output_type": "stream",
     "text": [
      "                                                                                                               \r"
     ]
    },
    {
     "name": "stdout",
     "output_type": "stream",
     "text": [
      "MoviePy - Done.\n",
      "Moviepy - Writing video ../data/vid_cut/10/10_Video_SideSquat_Side.mp4\n",
      "\n"
     ]
    },
    {
     "name": "stderr",
     "output_type": "stream",
     "text": [
      "                                                                                                               \r"
     ]
    },
    {
     "name": "stdout",
     "output_type": "stream",
     "text": [
      "Moviepy - Done !\n",
      "Moviepy - video ready ../data/vid_cut/10/10_Video_SideSquat_Side.mp4\n",
      "Moviepy - Building video ../data/vid_cut/10/10_Video_SingleLegDeadlift_Frontal.mp4.\n",
      "MoviePy - Writing audio in 10_Video_SingleLegDeadlift_FrontalTEMP_MPY_wvf_snd.mp4\n"
     ]
    },
    {
     "name": "stderr",
     "output_type": "stream",
     "text": [
      "                                                                                                               \r"
     ]
    },
    {
     "name": "stdout",
     "output_type": "stream",
     "text": [
      "MoviePy - Done.\n",
      "Moviepy - Writing video ../data/vid_cut/10/10_Video_SingleLegDeadlift_Frontal.mp4\n",
      "\n"
     ]
    },
    {
     "name": "stderr",
     "output_type": "stream",
     "text": [
      "                                                                                                               \r"
     ]
    },
    {
     "name": "stdout",
     "output_type": "stream",
     "text": [
      "Moviepy - Done !\n",
      "Moviepy - video ready ../data/vid_cut/10/10_Video_SingleLegDeadlift_Frontal.mp4\n",
      "Moviepy - Building video ../data/vid_cut/10/10_Video_SingleLegDeadlift_Side.mp4.\n",
      "MoviePy - Writing audio in 10_Video_SingleLegDeadlift_SideTEMP_MPY_wvf_snd.mp4\n"
     ]
    },
    {
     "name": "stderr",
     "output_type": "stream",
     "text": [
      "                                                                                                               \r"
     ]
    },
    {
     "name": "stdout",
     "output_type": "stream",
     "text": [
      "MoviePy - Done.\n",
      "Moviepy - Writing video ../data/vid_cut/10/10_Video_SingleLegDeadlift_Side.mp4\n",
      "\n"
     ]
    },
    {
     "name": "stderr",
     "output_type": "stream",
     "text": [
      "                                                                                                               \r"
     ]
    },
    {
     "name": "stdout",
     "output_type": "stream",
     "text": [
      "Moviepy - Done !\n",
      "Moviepy - video ready ../data/vid_cut/10/10_Video_SingleLegDeadlift_Side.mp4\n",
      "Moviepy - Building video ../data/vid_cut/10/10_Video_Squat_Frontal.mp4.\n",
      "MoviePy - Writing audio in 10_Video_Squat_FrontalTEMP_MPY_wvf_snd.mp4\n"
     ]
    },
    {
     "name": "stderr",
     "output_type": "stream",
     "text": [
      "                                                                                                               \r"
     ]
    },
    {
     "name": "stdout",
     "output_type": "stream",
     "text": [
      "MoviePy - Done.\n",
      "Moviepy - Writing video ../data/vid_cut/10/10_Video_Squat_Frontal.mp4\n",
      "\n"
     ]
    },
    {
     "name": "stderr",
     "output_type": "stream",
     "text": [
      "                                                                                                               \r"
     ]
    },
    {
     "name": "stdout",
     "output_type": "stream",
     "text": [
      "Moviepy - Done !\n",
      "Moviepy - video ready ../data/vid_cut/10/10_Video_Squat_Frontal.mp4\n",
      "Moviepy - Building video ../data/vid_cut/10/10_Video_Squat_Side.mp4.\n",
      "MoviePy - Writing audio in 10_Video_Squat_SideTEMP_MPY_wvf_snd.mp4\n"
     ]
    },
    {
     "name": "stderr",
     "output_type": "stream",
     "text": [
      "                                                                                                               \r"
     ]
    },
    {
     "name": "stdout",
     "output_type": "stream",
     "text": [
      "MoviePy - Done.\n",
      "Moviepy - Writing video ../data/vid_cut/10/10_Video_Squat_Side.mp4\n",
      "\n"
     ]
    },
    {
     "name": "stderr",
     "output_type": "stream",
     "text": [
      "                                                                                                               \r"
     ]
    },
    {
     "name": "stdout",
     "output_type": "stream",
     "text": [
      "Moviepy - Done !\n",
      "Moviepy - video ready ../data/vid_cut/10/10_Video_Squat_Side.mp4\n",
      "Moviepy - Building video ../data/vid_cut/07/07_Video_FrontLunge_Frontal.mp4.\n",
      "MoviePy - Writing audio in 07_Video_FrontLunge_FrontalTEMP_MPY_wvf_snd.mp4\n"
     ]
    },
    {
     "name": "stderr",
     "output_type": "stream",
     "text": [
      "                                                                                                               \r"
     ]
    },
    {
     "name": "stdout",
     "output_type": "stream",
     "text": [
      "MoviePy - Done.\n",
      "Moviepy - Writing video ../data/vid_cut/07/07_Video_FrontLunge_Frontal.mp4\n",
      "\n"
     ]
    },
    {
     "name": "stderr",
     "output_type": "stream",
     "text": [
      "                                                                                                               \r"
     ]
    },
    {
     "name": "stdout",
     "output_type": "stream",
     "text": [
      "Moviepy - Done !\n",
      "Moviepy - video ready ../data/vid_cut/07/07_Video_FrontLunge_Frontal.mp4\n",
      "Moviepy - Building video ../data/vid_cut/07/07_Video_FrontLunge_Side.mp4.\n",
      "MoviePy - Writing audio in 07_Video_FrontLunge_SideTEMP_MPY_wvf_snd.mp4\n"
     ]
    },
    {
     "name": "stderr",
     "output_type": "stream",
     "text": [
      "                                                                                                               \r"
     ]
    },
    {
     "name": "stdout",
     "output_type": "stream",
     "text": [
      "MoviePy - Done.\n",
      "Moviepy - Writing video ../data/vid_cut/07/07_Video_FrontLunge_Side.mp4\n",
      "\n"
     ]
    },
    {
     "name": "stderr",
     "output_type": "stream",
     "text": [
      "                                                                                                               \r"
     ]
    },
    {
     "name": "stdout",
     "output_type": "stream",
     "text": [
      "Moviepy - Done !\n",
      "Moviepy - video ready ../data/vid_cut/07/07_Video_FrontLunge_Side.mp4\n",
      "Moviepy - Building video ../data/vid_cut/07/07_Video_JumpingJacks_Frontal.mp4.\n",
      "MoviePy - Writing audio in 07_Video_JumpingJacks_FrontalTEMP_MPY_wvf_snd.mp4\n"
     ]
    },
    {
     "name": "stderr",
     "output_type": "stream",
     "text": [
      "                                                                                                               \r"
     ]
    },
    {
     "name": "stdout",
     "output_type": "stream",
     "text": [
      "MoviePy - Done.\n",
      "Moviepy - Writing video ../data/vid_cut/07/07_Video_JumpingJacks_Frontal.mp4\n",
      "\n"
     ]
    },
    {
     "name": "stderr",
     "output_type": "stream",
     "text": [
      "                                                                                                               \r"
     ]
    },
    {
     "name": "stdout",
     "output_type": "stream",
     "text": [
      "Moviepy - Done !\n",
      "Moviepy - video ready ../data/vid_cut/07/07_Video_JumpingJacks_Frontal.mp4\n",
      "Moviepy - Building video ../data/vid_cut/07/07_Video_JumpingJacks_Side.mp4.\n",
      "MoviePy - Writing audio in 07_Video_JumpingJacks_SideTEMP_MPY_wvf_snd.mp4\n"
     ]
    },
    {
     "name": "stderr",
     "output_type": "stream",
     "text": [
      "                                                                                                               \r"
     ]
    },
    {
     "name": "stdout",
     "output_type": "stream",
     "text": [
      "MoviePy - Done.\n",
      "Moviepy - Writing video ../data/vid_cut/07/07_Video_JumpingJacks_Side.mp4\n",
      "\n"
     ]
    },
    {
     "name": "stderr",
     "output_type": "stream",
     "text": [
      "                                                                                                               \r"
     ]
    },
    {
     "name": "stdout",
     "output_type": "stream",
     "text": [
      "Moviepy - Done !\n",
      "Moviepy - video ready ../data/vid_cut/07/07_Video_JumpingJacks_Side.mp4\n",
      "Moviepy - Building video ../data/vid_cut/07/07_Video_LateralArmRaise_Frontal.mp4.\n",
      "MoviePy - Writing audio in 07_Video_LateralArmRaise_FrontalTEMP_MPY_wvf_snd.mp4\n"
     ]
    },
    {
     "name": "stderr",
     "output_type": "stream",
     "text": [
      "                                                                                                               \r"
     ]
    },
    {
     "name": "stdout",
     "output_type": "stream",
     "text": [
      "MoviePy - Done.\n",
      "Moviepy - Writing video ../data/vid_cut/07/07_Video_LateralArmRaise_Frontal.mp4\n",
      "\n"
     ]
    },
    {
     "name": "stderr",
     "output_type": "stream",
     "text": [
      "                                                                                                               \r"
     ]
    },
    {
     "name": "stdout",
     "output_type": "stream",
     "text": [
      "Moviepy - Done !\n",
      "Moviepy - video ready ../data/vid_cut/07/07_Video_LateralArmRaise_Frontal.mp4\n",
      "Moviepy - Building video ../data/vid_cut/07/07_Video_LateralArmRaise_Side.mp4.\n",
      "MoviePy - Writing audio in 07_Video_LateralArmRaise_SideTEMP_MPY_wvf_snd.mp4\n"
     ]
    },
    {
     "name": "stderr",
     "output_type": "stream",
     "text": [
      "                                                                                                               \r"
     ]
    },
    {
     "name": "stdout",
     "output_type": "stream",
     "text": [
      "MoviePy - Done.\n",
      "Moviepy - Writing video ../data/vid_cut/07/07_Video_LateralArmRaise_Side.mp4\n",
      "\n"
     ]
    },
    {
     "name": "stderr",
     "output_type": "stream",
     "text": [
      "                                                                                                               \r"
     ]
    },
    {
     "name": "stdout",
     "output_type": "stream",
     "text": [
      "Moviepy - Done !\n",
      "Moviepy - video ready ../data/vid_cut/07/07_Video_LateralArmRaise_Side.mp4\n",
      "Moviepy - Building video ../data/vid_cut/07/07_Video_LegExtensionCrunch_Frontal.mp4.\n",
      "MoviePy - Writing audio in 07_Video_LegExtensionCrunch_FrontalTEMP_MPY_wvf_snd.mp4\n"
     ]
    },
    {
     "name": "stderr",
     "output_type": "stream",
     "text": [
      "                                                                                                               \r"
     ]
    },
    {
     "name": "stdout",
     "output_type": "stream",
     "text": [
      "MoviePy - Done.\n",
      "Moviepy - Writing video ../data/vid_cut/07/07_Video_LegExtensionCrunch_Frontal.mp4\n",
      "\n"
     ]
    },
    {
     "name": "stderr",
     "output_type": "stream",
     "text": [
      "                                                                                                               \r"
     ]
    },
    {
     "name": "stdout",
     "output_type": "stream",
     "text": [
      "Moviepy - Done !\n",
      "Moviepy - video ready ../data/vid_cut/07/07_Video_LegExtensionCrunch_Frontal.mp4\n",
      "Moviepy - Building video ../data/vid_cut/07/07_Video_LegExtensionCrunch_Side.mp4.\n",
      "MoviePy - Writing audio in 07_Video_LegExtensionCrunch_SideTEMP_MPY_wvf_snd.mp4\n"
     ]
    },
    {
     "name": "stderr",
     "output_type": "stream",
     "text": [
      "                                                                                                               \r"
     ]
    },
    {
     "name": "stdout",
     "output_type": "stream",
     "text": [
      "MoviePy - Done.\n",
      "Moviepy - Writing video ../data/vid_cut/07/07_Video_LegExtensionCrunch_Side.mp4\n",
      "\n"
     ]
    },
    {
     "name": "stderr",
     "output_type": "stream",
     "text": [
      "                                                                                                               \r"
     ]
    },
    {
     "name": "stdout",
     "output_type": "stream",
     "text": [
      "Moviepy - Done !\n",
      "Moviepy - video ready ../data/vid_cut/07/07_Video_LegExtensionCrunch_Side.mp4\n",
      "Moviepy - Building video ../data/vid_cut/07/07_Video_ReverseFly_Frontal.mp4.\n",
      "MoviePy - Writing audio in 07_Video_ReverseFly_FrontalTEMP_MPY_wvf_snd.mp4\n"
     ]
    },
    {
     "name": "stderr",
     "output_type": "stream",
     "text": [
      "                                                                                                               \r"
     ]
    },
    {
     "name": "stdout",
     "output_type": "stream",
     "text": [
      "MoviePy - Done.\n",
      "Moviepy - Writing video ../data/vid_cut/07/07_Video_ReverseFly_Frontal.mp4\n",
      "\n"
     ]
    },
    {
     "name": "stderr",
     "output_type": "stream",
     "text": [
      "                                                                                                               \r"
     ]
    },
    {
     "name": "stdout",
     "output_type": "stream",
     "text": [
      "Moviepy - Done !\n",
      "Moviepy - video ready ../data/vid_cut/07/07_Video_ReverseFly_Frontal.mp4\n",
      "Moviepy - Building video ../data/vid_cut/07/07_Video_ReverseFly_Side.mp4.\n",
      "MoviePy - Writing audio in 07_Video_ReverseFly_SideTEMP_MPY_wvf_snd.mp4\n"
     ]
    },
    {
     "name": "stderr",
     "output_type": "stream",
     "text": [
      "                                                                                                               \r"
     ]
    },
    {
     "name": "stdout",
     "output_type": "stream",
     "text": [
      "MoviePy - Done.\n",
      "Moviepy - Writing video ../data/vid_cut/07/07_Video_ReverseFly_Side.mp4\n",
      "\n"
     ]
    },
    {
     "name": "stderr",
     "output_type": "stream",
     "text": [
      "                                                                                                               \r"
     ]
    },
    {
     "name": "stdout",
     "output_type": "stream",
     "text": [
      "Moviepy - Done !\n",
      "Moviepy - video ready ../data/vid_cut/07/07_Video_ReverseFly_Side.mp4\n",
      "Moviepy - Building video ../data/vid_cut/07/07_Video_SideSquat_Frontal.mp4.\n",
      "MoviePy - Writing audio in 07_Video_SideSquat_FrontalTEMP_MPY_wvf_snd.mp4\n"
     ]
    },
    {
     "name": "stderr",
     "output_type": "stream",
     "text": [
      "                                                                                                               \r"
     ]
    },
    {
     "name": "stdout",
     "output_type": "stream",
     "text": [
      "MoviePy - Done.\n",
      "Moviepy - Writing video ../data/vid_cut/07/07_Video_SideSquat_Frontal.mp4\n",
      "\n"
     ]
    },
    {
     "name": "stderr",
     "output_type": "stream",
     "text": [
      "                                                                                                               \r"
     ]
    },
    {
     "name": "stdout",
     "output_type": "stream",
     "text": [
      "Moviepy - Done !\n",
      "Moviepy - video ready ../data/vid_cut/07/07_Video_SideSquat_Frontal.mp4\n",
      "Moviepy - Building video ../data/vid_cut/07/07_Video_SideSquat_Side.mp4.\n",
      "MoviePy - Writing audio in 07_Video_SideSquat_SideTEMP_MPY_wvf_snd.mp4\n"
     ]
    },
    {
     "name": "stderr",
     "output_type": "stream",
     "text": [
      "                                                                                                               \r"
     ]
    },
    {
     "name": "stdout",
     "output_type": "stream",
     "text": [
      "MoviePy - Done.\n",
      "Moviepy - Writing video ../data/vid_cut/07/07_Video_SideSquat_Side.mp4\n",
      "\n"
     ]
    },
    {
     "name": "stderr",
     "output_type": "stream",
     "text": [
      "                                                                                                               \r"
     ]
    },
    {
     "name": "stdout",
     "output_type": "stream",
     "text": [
      "Moviepy - Done !\n",
      "Moviepy - video ready ../data/vid_cut/07/07_Video_SideSquat_Side.mp4\n",
      "Moviepy - Building video ../data/vid_cut/07/07_Video_SingleLegDeadlift_Frontal.mp4.\n",
      "MoviePy - Writing audio in 07_Video_SingleLegDeadlift_FrontalTEMP_MPY_wvf_snd.mp4\n"
     ]
    },
    {
     "name": "stderr",
     "output_type": "stream",
     "text": [
      "                                                                                                               \r"
     ]
    },
    {
     "name": "stdout",
     "output_type": "stream",
     "text": [
      "MoviePy - Done.\n",
      "Moviepy - Writing video ../data/vid_cut/07/07_Video_SingleLegDeadlift_Frontal.mp4\n",
      "\n"
     ]
    },
    {
     "name": "stderr",
     "output_type": "stream",
     "text": [
      "                                                                                                               \r"
     ]
    },
    {
     "name": "stdout",
     "output_type": "stream",
     "text": [
      "Moviepy - Done !\n",
      "Moviepy - video ready ../data/vid_cut/07/07_Video_SingleLegDeadlift_Frontal.mp4\n",
      "Moviepy - Building video ../data/vid_cut/07/07_Video_SingleLegDeadlift_Side.mp4.\n",
      "MoviePy - Writing audio in 07_Video_SingleLegDeadlift_SideTEMP_MPY_wvf_snd.mp4\n"
     ]
    },
    {
     "name": "stderr",
     "output_type": "stream",
     "text": [
      "                                                                                                               \r"
     ]
    },
    {
     "name": "stdout",
     "output_type": "stream",
     "text": [
      "MoviePy - Done.\n",
      "Moviepy - Writing video ../data/vid_cut/07/07_Video_SingleLegDeadlift_Side.mp4\n",
      "\n"
     ]
    },
    {
     "name": "stderr",
     "output_type": "stream",
     "text": [
      "                                                                                                               \r"
     ]
    },
    {
     "name": "stdout",
     "output_type": "stream",
     "text": [
      "Moviepy - Done !\n",
      "Moviepy - video ready ../data/vid_cut/07/07_Video_SingleLegDeadlift_Side.mp4\n",
      "Moviepy - Building video ../data/vid_cut/07/07_Video_Squat_Frontal.mp4.\n",
      "MoviePy - Writing audio in 07_Video_Squat_FrontalTEMP_MPY_wvf_snd.mp4\n"
     ]
    },
    {
     "name": "stderr",
     "output_type": "stream",
     "text": [
      "                                                                                                               \r"
     ]
    },
    {
     "name": "stdout",
     "output_type": "stream",
     "text": [
      "MoviePy - Done.\n",
      "Moviepy - Writing video ../data/vid_cut/07/07_Video_Squat_Frontal.mp4\n",
      "\n"
     ]
    },
    {
     "name": "stderr",
     "output_type": "stream",
     "text": [
      "                                                                                                               \r"
     ]
    },
    {
     "name": "stdout",
     "output_type": "stream",
     "text": [
      "Moviepy - Done !\n",
      "Moviepy - video ready ../data/vid_cut/07/07_Video_Squat_Frontal.mp4\n",
      "Moviepy - Building video ../data/vid_cut/07/07_Video_Squat_Side.mp4.\n",
      "MoviePy - Writing audio in 07_Video_Squat_SideTEMP_MPY_wvf_snd.mp4\n"
     ]
    },
    {
     "name": "stderr",
     "output_type": "stream",
     "text": [
      "                                                                                                               \r"
     ]
    },
    {
     "name": "stdout",
     "output_type": "stream",
     "text": [
      "MoviePy - Done.\n",
      "Moviepy - Writing video ../data/vid_cut/07/07_Video_Squat_Side.mp4\n",
      "\n"
     ]
    },
    {
     "name": "stderr",
     "output_type": "stream",
     "text": [
      "                                                                                                               \r"
     ]
    },
    {
     "name": "stdout",
     "output_type": "stream",
     "text": [
      "Moviepy - Done !\n",
      "Moviepy - video ready ../data/vid_cut/07/07_Video_Squat_Side.mp4\n",
      "Moviepy - Building video ../data/vid_cut/09/09_Video_FrontLunge_Frontal.mp4.\n",
      "MoviePy - Writing audio in 09_Video_FrontLunge_FrontalTEMP_MPY_wvf_snd.mp4\n"
     ]
    },
    {
     "name": "stderr",
     "output_type": "stream",
     "text": [
      "                                                                                                               \r"
     ]
    },
    {
     "name": "stdout",
     "output_type": "stream",
     "text": [
      "MoviePy - Done.\n",
      "Moviepy - Writing video ../data/vid_cut/09/09_Video_FrontLunge_Frontal.mp4\n",
      "\n"
     ]
    },
    {
     "name": "stderr",
     "output_type": "stream",
     "text": [
      "                                                                                                               \r"
     ]
    },
    {
     "name": "stdout",
     "output_type": "stream",
     "text": [
      "Moviepy - Done !\n",
      "Moviepy - video ready ../data/vid_cut/09/09_Video_FrontLunge_Frontal.mp4\n",
      "Moviepy - Building video ../data/vid_cut/09/09_Video_FrontLunge_Side.mp4.\n",
      "MoviePy - Writing audio in 09_Video_FrontLunge_SideTEMP_MPY_wvf_snd.mp4\n"
     ]
    },
    {
     "name": "stderr",
     "output_type": "stream",
     "text": [
      "                                                                                                               \r"
     ]
    },
    {
     "name": "stdout",
     "output_type": "stream",
     "text": [
      "MoviePy - Done.\n",
      "Moviepy - Writing video ../data/vid_cut/09/09_Video_FrontLunge_Side.mp4\n",
      "\n"
     ]
    },
    {
     "name": "stderr",
     "output_type": "stream",
     "text": [
      "                                                                                                               \r"
     ]
    },
    {
     "name": "stdout",
     "output_type": "stream",
     "text": [
      "Moviepy - Done !\n",
      "Moviepy - video ready ../data/vid_cut/09/09_Video_FrontLunge_Side.mp4\n",
      "Moviepy - Building video ../data/vid_cut/09/09_Video_JumpingJacks_Frontal.mp4.\n",
      "MoviePy - Writing audio in 09_Video_JumpingJacks_FrontalTEMP_MPY_wvf_snd.mp4\n"
     ]
    },
    {
     "name": "stderr",
     "output_type": "stream",
     "text": [
      "                                                                                                               \r"
     ]
    },
    {
     "name": "stdout",
     "output_type": "stream",
     "text": [
      "MoviePy - Done.\n",
      "Moviepy - Writing video ../data/vid_cut/09/09_Video_JumpingJacks_Frontal.mp4\n",
      "\n"
     ]
    },
    {
     "name": "stderr",
     "output_type": "stream",
     "text": [
      "                                                                                                               \r"
     ]
    },
    {
     "name": "stdout",
     "output_type": "stream",
     "text": [
      "Moviepy - Done !\n",
      "Moviepy - video ready ../data/vid_cut/09/09_Video_JumpingJacks_Frontal.mp4\n",
      "Moviepy - Building video ../data/vid_cut/09/09_Video_JumpingJacks_Side.mp4.\n",
      "MoviePy - Writing audio in 09_Video_JumpingJacks_SideTEMP_MPY_wvf_snd.mp4\n"
     ]
    },
    {
     "name": "stderr",
     "output_type": "stream",
     "text": [
      "                                                                                                               \r"
     ]
    },
    {
     "name": "stdout",
     "output_type": "stream",
     "text": [
      "MoviePy - Done.\n",
      "Moviepy - Writing video ../data/vid_cut/09/09_Video_JumpingJacks_Side.mp4\n",
      "\n"
     ]
    },
    {
     "name": "stderr",
     "output_type": "stream",
     "text": [
      "                                                                                                               \r"
     ]
    },
    {
     "name": "stdout",
     "output_type": "stream",
     "text": [
      "Moviepy - Done !\n",
      "Moviepy - video ready ../data/vid_cut/09/09_Video_JumpingJacks_Side.mp4\n",
      "Moviepy - Building video ../data/vid_cut/09/09_Video_LateralArmRaise_Frontal.mp4.\n",
      "MoviePy - Writing audio in 09_Video_LateralArmRaise_FrontalTEMP_MPY_wvf_snd.mp4\n"
     ]
    },
    {
     "name": "stderr",
     "output_type": "stream",
     "text": [
      "                                                                                                               \r"
     ]
    },
    {
     "name": "stdout",
     "output_type": "stream",
     "text": [
      "MoviePy - Done.\n",
      "Moviepy - Writing video ../data/vid_cut/09/09_Video_LateralArmRaise_Frontal.mp4\n",
      "\n"
     ]
    },
    {
     "name": "stderr",
     "output_type": "stream",
     "text": [
      "                                                                                                               \r"
     ]
    },
    {
     "name": "stdout",
     "output_type": "stream",
     "text": [
      "Moviepy - Done !\n",
      "Moviepy - video ready ../data/vid_cut/09/09_Video_LateralArmRaise_Frontal.mp4\n",
      "Moviepy - Building video ../data/vid_cut/09/09_Video_LateralArmRaise_Side.mp4.\n",
      "MoviePy - Writing audio in 09_Video_LateralArmRaise_SideTEMP_MPY_wvf_snd.mp4\n"
     ]
    },
    {
     "name": "stderr",
     "output_type": "stream",
     "text": [
      "                                                                                                               \r"
     ]
    },
    {
     "name": "stdout",
     "output_type": "stream",
     "text": [
      "MoviePy - Done.\n",
      "Moviepy - Writing video ../data/vid_cut/09/09_Video_LateralArmRaise_Side.mp4\n",
      "\n"
     ]
    },
    {
     "name": "stderr",
     "output_type": "stream",
     "text": [
      "                                                                                                               \r"
     ]
    },
    {
     "name": "stdout",
     "output_type": "stream",
     "text": [
      "Moviepy - Done !\n",
      "Moviepy - video ready ../data/vid_cut/09/09_Video_LateralArmRaise_Side.mp4\n",
      "Moviepy - Building video ../data/vid_cut/09/09_Video_LegExtensionCrunch_Frontal.mp4.\n",
      "MoviePy - Writing audio in 09_Video_LegExtensionCrunch_FrontalTEMP_MPY_wvf_snd.mp4\n"
     ]
    },
    {
     "name": "stderr",
     "output_type": "stream",
     "text": [
      "                                                                                                               \r"
     ]
    },
    {
     "name": "stdout",
     "output_type": "stream",
     "text": [
      "MoviePy - Done.\n",
      "Moviepy - Writing video ../data/vid_cut/09/09_Video_LegExtensionCrunch_Frontal.mp4\n",
      "\n"
     ]
    },
    {
     "name": "stderr",
     "output_type": "stream",
     "text": [
      "                                                                                                               \r"
     ]
    },
    {
     "name": "stdout",
     "output_type": "stream",
     "text": [
      "Moviepy - Done !\n",
      "Moviepy - video ready ../data/vid_cut/09/09_Video_LegExtensionCrunch_Frontal.mp4\n",
      "Moviepy - Building video ../data/vid_cut/09/09_Video_LegExtensionCrunch_Side.mp4.\n",
      "MoviePy - Writing audio in 09_Video_LegExtensionCrunch_SideTEMP_MPY_wvf_snd.mp4\n"
     ]
    },
    {
     "name": "stderr",
     "output_type": "stream",
     "text": [
      "                                                                                                               \r"
     ]
    },
    {
     "name": "stdout",
     "output_type": "stream",
     "text": [
      "MoviePy - Done.\n",
      "Moviepy - Writing video ../data/vid_cut/09/09_Video_LegExtensionCrunch_Side.mp4\n",
      "\n"
     ]
    },
    {
     "name": "stderr",
     "output_type": "stream",
     "text": [
      "                                                                                                               \r"
     ]
    },
    {
     "name": "stdout",
     "output_type": "stream",
     "text": [
      "Moviepy - Done !\n",
      "Moviepy - video ready ../data/vid_cut/09/09_Video_LegExtensionCrunch_Side.mp4\n",
      "Moviepy - Building video ../data/vid_cut/09/09_Video_ReverseFly_Frontal.mp4.\n",
      "MoviePy - Writing audio in 09_Video_ReverseFly_FrontalTEMP_MPY_wvf_snd.mp4\n"
     ]
    },
    {
     "name": "stderr",
     "output_type": "stream",
     "text": [
      "                                                                                                               \r"
     ]
    },
    {
     "name": "stdout",
     "output_type": "stream",
     "text": [
      "MoviePy - Done.\n",
      "Moviepy - Writing video ../data/vid_cut/09/09_Video_ReverseFly_Frontal.mp4\n",
      "\n"
     ]
    },
    {
     "name": "stderr",
     "output_type": "stream",
     "text": [
      "                                                                                                               \r"
     ]
    },
    {
     "name": "stdout",
     "output_type": "stream",
     "text": [
      "Moviepy - Done !\n",
      "Moviepy - video ready ../data/vid_cut/09/09_Video_ReverseFly_Frontal.mp4\n",
      "Moviepy - Building video ../data/vid_cut/09/09_Video_ReverseFly_Side.mp4.\n",
      "MoviePy - Writing audio in 09_Video_ReverseFly_SideTEMP_MPY_wvf_snd.mp4\n"
     ]
    },
    {
     "name": "stderr",
     "output_type": "stream",
     "text": [
      "                                                                                                               \r"
     ]
    },
    {
     "name": "stdout",
     "output_type": "stream",
     "text": [
      "MoviePy - Done.\n",
      "Moviepy - Writing video ../data/vid_cut/09/09_Video_ReverseFly_Side.mp4\n",
      "\n"
     ]
    },
    {
     "name": "stderr",
     "output_type": "stream",
     "text": [
      "                                                                                                               \r"
     ]
    },
    {
     "name": "stdout",
     "output_type": "stream",
     "text": [
      "Moviepy - Done !\n",
      "Moviepy - video ready ../data/vid_cut/09/09_Video_ReverseFly_Side.mp4\n",
      "Moviepy - Building video ../data/vid_cut/09/09_Video_SideSquat_Frontal.mp4.\n",
      "MoviePy - Writing audio in 09_Video_SideSquat_FrontalTEMP_MPY_wvf_snd.mp4\n"
     ]
    },
    {
     "name": "stderr",
     "output_type": "stream",
     "text": [
      "                                                                                                               \r"
     ]
    },
    {
     "name": "stdout",
     "output_type": "stream",
     "text": [
      "MoviePy - Done.\n",
      "Moviepy - Writing video ../data/vid_cut/09/09_Video_SideSquat_Frontal.mp4\n",
      "\n"
     ]
    },
    {
     "name": "stderr",
     "output_type": "stream",
     "text": [
      "                                                                                                               \r"
     ]
    },
    {
     "name": "stdout",
     "output_type": "stream",
     "text": [
      "Moviepy - Done !\n",
      "Moviepy - video ready ../data/vid_cut/09/09_Video_SideSquat_Frontal.mp4\n",
      "Moviepy - Building video ../data/vid_cut/09/09_Video_SideSquat_Side.mp4.\n",
      "MoviePy - Writing audio in 09_Video_SideSquat_SideTEMP_MPY_wvf_snd.mp4\n"
     ]
    },
    {
     "name": "stderr",
     "output_type": "stream",
     "text": [
      "                                                                                                               \r"
     ]
    },
    {
     "name": "stdout",
     "output_type": "stream",
     "text": [
      "MoviePy - Done.\n",
      "Moviepy - Writing video ../data/vid_cut/09/09_Video_SideSquat_Side.mp4\n",
      "\n"
     ]
    },
    {
     "name": "stderr",
     "output_type": "stream",
     "text": [
      "                                                                                                               \r"
     ]
    },
    {
     "name": "stdout",
     "output_type": "stream",
     "text": [
      "Moviepy - Done !\n",
      "Moviepy - video ready ../data/vid_cut/09/09_Video_SideSquat_Side.mp4\n",
      "Moviepy - Building video ../data/vid_cut/09/09_Video_SingleLegDeadlift_Frontal.mp4.\n",
      "MoviePy - Writing audio in 09_Video_SingleLegDeadlift_FrontalTEMP_MPY_wvf_snd.mp4\n"
     ]
    },
    {
     "name": "stderr",
     "output_type": "stream",
     "text": [
      "                                                                                                               \r"
     ]
    },
    {
     "name": "stdout",
     "output_type": "stream",
     "text": [
      "MoviePy - Done.\n",
      "Moviepy - Writing video ../data/vid_cut/09/09_Video_SingleLegDeadlift_Frontal.mp4\n",
      "\n"
     ]
    },
    {
     "name": "stderr",
     "output_type": "stream",
     "text": [
      "                                                                                                               \r"
     ]
    },
    {
     "name": "stdout",
     "output_type": "stream",
     "text": [
      "Moviepy - Done !\n",
      "Moviepy - video ready ../data/vid_cut/09/09_Video_SingleLegDeadlift_Frontal.mp4\n",
      "Moviepy - Building video ../data/vid_cut/09/09_Video_SingleLegDeadlift_Side.mp4.\n",
      "MoviePy - Writing audio in 09_Video_SingleLegDeadlift_SideTEMP_MPY_wvf_snd.mp4\n"
     ]
    },
    {
     "name": "stderr",
     "output_type": "stream",
     "text": [
      "                                                                                                               \r"
     ]
    },
    {
     "name": "stdout",
     "output_type": "stream",
     "text": [
      "MoviePy - Done.\n",
      "Moviepy - Writing video ../data/vid_cut/09/09_Video_SingleLegDeadlift_Side.mp4\n",
      "\n"
     ]
    },
    {
     "name": "stderr",
     "output_type": "stream",
     "text": [
      "                                                                                                               \r"
     ]
    },
    {
     "name": "stdout",
     "output_type": "stream",
     "text": [
      "Moviepy - Done !\n",
      "Moviepy - video ready ../data/vid_cut/09/09_Video_SingleLegDeadlift_Side.mp4\n",
      "Moviepy - Building video ../data/vid_cut/09/09_Video_Squat_Frontal.mp4.\n",
      "MoviePy - Writing audio in 09_Video_Squat_FrontalTEMP_MPY_wvf_snd.mp4\n"
     ]
    },
    {
     "name": "stderr",
     "output_type": "stream",
     "text": [
      "                                                                                                               \r"
     ]
    },
    {
     "name": "stdout",
     "output_type": "stream",
     "text": [
      "MoviePy - Done.\n",
      "Moviepy - Writing video ../data/vid_cut/09/09_Video_Squat_Frontal.mp4\n",
      "\n"
     ]
    },
    {
     "name": "stderr",
     "output_type": "stream",
     "text": [
      "                                                                                                               \r"
     ]
    },
    {
     "name": "stdout",
     "output_type": "stream",
     "text": [
      "Moviepy - Done !\n",
      "Moviepy - video ready ../data/vid_cut/09/09_Video_Squat_Frontal.mp4\n",
      "Moviepy - Building video ../data/vid_cut/09/09_Video_Squat_Side.mp4.\n",
      "MoviePy - Writing audio in 09_Video_Squat_SideTEMP_MPY_wvf_snd.mp4\n"
     ]
    },
    {
     "name": "stderr",
     "output_type": "stream",
     "text": [
      "                                                                                                               \r"
     ]
    },
    {
     "name": "stdout",
     "output_type": "stream",
     "text": [
      "MoviePy - Done.\n",
      "Moviepy - Writing video ../data/vid_cut/09/09_Video_Squat_Side.mp4\n",
      "\n"
     ]
    },
    {
     "name": "stderr",
     "output_type": "stream",
     "text": [
      "                                                                                                               \r"
     ]
    },
    {
     "name": "stdout",
     "output_type": "stream",
     "text": [
      "Moviepy - Done !\n",
      "Moviepy - video ready ../data/vid_cut/09/09_Video_Squat_Side.mp4\n",
      "Moviepy - Building video ../data/vid_cut/08/08_Video_FrontLunge_Frontal.mp4.\n",
      "MoviePy - Writing audio in 08_Video_FrontLunge_FrontalTEMP_MPY_wvf_snd.mp4\n"
     ]
    },
    {
     "name": "stderr",
     "output_type": "stream",
     "text": [
      "                                                                                                               \r"
     ]
    },
    {
     "name": "stdout",
     "output_type": "stream",
     "text": [
      "MoviePy - Done.\n",
      "Moviepy - Writing video ../data/vid_cut/08/08_Video_FrontLunge_Frontal.mp4\n",
      "\n"
     ]
    },
    {
     "name": "stderr",
     "output_type": "stream",
     "text": [
      "                                                                                                               \r"
     ]
    },
    {
     "name": "stdout",
     "output_type": "stream",
     "text": [
      "Moviepy - Done !\n",
      "Moviepy - video ready ../data/vid_cut/08/08_Video_FrontLunge_Frontal.mp4\n",
      "Moviepy - Building video ../data/vid_cut/08/08_Video_FrontLunge_Side.mp4.\n",
      "MoviePy - Writing audio in 08_Video_FrontLunge_SideTEMP_MPY_wvf_snd.mp4\n"
     ]
    },
    {
     "name": "stderr",
     "output_type": "stream",
     "text": [
      "                                                                                                               \r"
     ]
    },
    {
     "name": "stdout",
     "output_type": "stream",
     "text": [
      "MoviePy - Done.\n",
      "Moviepy - Writing video ../data/vid_cut/08/08_Video_FrontLunge_Side.mp4\n",
      "\n"
     ]
    },
    {
     "name": "stderr",
     "output_type": "stream",
     "text": [
      "                                                                                                               \r"
     ]
    },
    {
     "name": "stdout",
     "output_type": "stream",
     "text": [
      "Moviepy - Done !\n",
      "Moviepy - video ready ../data/vid_cut/08/08_Video_FrontLunge_Side.mp4\n",
      "Moviepy - Building video ../data/vid_cut/08/08_Video_JumpingJacks_Frontal.mp4.\n",
      "MoviePy - Writing audio in 08_Video_JumpingJacks_FrontalTEMP_MPY_wvf_snd.mp4\n"
     ]
    },
    {
     "name": "stderr",
     "output_type": "stream",
     "text": [
      "                                                                                                               \r"
     ]
    },
    {
     "name": "stdout",
     "output_type": "stream",
     "text": [
      "MoviePy - Done.\n",
      "Moviepy - Writing video ../data/vid_cut/08/08_Video_JumpingJacks_Frontal.mp4\n",
      "\n"
     ]
    },
    {
     "name": "stderr",
     "output_type": "stream",
     "text": [
      "                                                                                                               \r"
     ]
    },
    {
     "name": "stdout",
     "output_type": "stream",
     "text": [
      "Moviepy - Done !\n",
      "Moviepy - video ready ../data/vid_cut/08/08_Video_JumpingJacks_Frontal.mp4\n",
      "Moviepy - Building video ../data/vid_cut/08/08_Video_JumpingJacks_Side.mp4.\n",
      "MoviePy - Writing audio in 08_Video_JumpingJacks_SideTEMP_MPY_wvf_snd.mp4\n"
     ]
    },
    {
     "name": "stderr",
     "output_type": "stream",
     "text": [
      "                                                                                                               \r"
     ]
    },
    {
     "name": "stdout",
     "output_type": "stream",
     "text": [
      "MoviePy - Done.\n",
      "Moviepy - Writing video ../data/vid_cut/08/08_Video_JumpingJacks_Side.mp4\n",
      "\n"
     ]
    },
    {
     "name": "stderr",
     "output_type": "stream",
     "text": [
      "                                                                                                               \r"
     ]
    },
    {
     "name": "stdout",
     "output_type": "stream",
     "text": [
      "Moviepy - Done !\n",
      "Moviepy - video ready ../data/vid_cut/08/08_Video_JumpingJacks_Side.mp4\n",
      "Moviepy - Building video ../data/vid_cut/08/08_Video_LateralArmRaise_Frontal.mp4.\n",
      "MoviePy - Writing audio in 08_Video_LateralArmRaise_FrontalTEMP_MPY_wvf_snd.mp4\n"
     ]
    },
    {
     "name": "stderr",
     "output_type": "stream",
     "text": [
      "                                                                                                               \r"
     ]
    },
    {
     "name": "stdout",
     "output_type": "stream",
     "text": [
      "MoviePy - Done.\n",
      "Moviepy - Writing video ../data/vid_cut/08/08_Video_LateralArmRaise_Frontal.mp4\n",
      "\n"
     ]
    },
    {
     "name": "stderr",
     "output_type": "stream",
     "text": [
      "                                                                                                               \r"
     ]
    },
    {
     "name": "stdout",
     "output_type": "stream",
     "text": [
      "Moviepy - Done !\n",
      "Moviepy - video ready ../data/vid_cut/08/08_Video_LateralArmRaise_Frontal.mp4\n",
      "Moviepy - Building video ../data/vid_cut/08/08_Video_LateralArmRaise_Side.mp4.\n",
      "MoviePy - Writing audio in 08_Video_LateralArmRaise_SideTEMP_MPY_wvf_snd.mp4\n"
     ]
    },
    {
     "name": "stderr",
     "output_type": "stream",
     "text": [
      "                                                                                                               \r"
     ]
    },
    {
     "name": "stdout",
     "output_type": "stream",
     "text": [
      "MoviePy - Done.\n",
      "Moviepy - Writing video ../data/vid_cut/08/08_Video_LateralArmRaise_Side.mp4\n",
      "\n"
     ]
    },
    {
     "name": "stderr",
     "output_type": "stream",
     "text": [
      "                                                                                                               \r"
     ]
    },
    {
     "name": "stdout",
     "output_type": "stream",
     "text": [
      "Moviepy - Done !\n",
      "Moviepy - video ready ../data/vid_cut/08/08_Video_LateralArmRaise_Side.mp4\n",
      "Moviepy - Building video ../data/vid_cut/08/08_Video_LegExtensionCrunch_Frontal.mp4.\n",
      "MoviePy - Writing audio in 08_Video_LegExtensionCrunch_FrontalTEMP_MPY_wvf_snd.mp4\n"
     ]
    },
    {
     "name": "stderr",
     "output_type": "stream",
     "text": [
      "                                                                                                               \r"
     ]
    },
    {
     "name": "stdout",
     "output_type": "stream",
     "text": [
      "MoviePy - Done.\n",
      "Moviepy - Writing video ../data/vid_cut/08/08_Video_LegExtensionCrunch_Frontal.mp4\n",
      "\n"
     ]
    },
    {
     "name": "stderr",
     "output_type": "stream",
     "text": [
      "                                                                                                               \r"
     ]
    },
    {
     "name": "stdout",
     "output_type": "stream",
     "text": [
      "Moviepy - Done !\n",
      "Moviepy - video ready ../data/vid_cut/08/08_Video_LegExtensionCrunch_Frontal.mp4\n",
      "Moviepy - Building video ../data/vid_cut/08/08_Video_LegExtensionCrunch_Side.mp4.\n",
      "MoviePy - Writing audio in 08_Video_LegExtensionCrunch_SideTEMP_MPY_wvf_snd.mp4\n"
     ]
    },
    {
     "name": "stderr",
     "output_type": "stream",
     "text": [
      "                                                                                                               \r"
     ]
    },
    {
     "name": "stdout",
     "output_type": "stream",
     "text": [
      "MoviePy - Done.\n",
      "Moviepy - Writing video ../data/vid_cut/08/08_Video_LegExtensionCrunch_Side.mp4\n",
      "\n"
     ]
    },
    {
     "name": "stderr",
     "output_type": "stream",
     "text": [
      "                                                                                                               \r"
     ]
    },
    {
     "name": "stdout",
     "output_type": "stream",
     "text": [
      "Moviepy - Done !\n",
      "Moviepy - video ready ../data/vid_cut/08/08_Video_LegExtensionCrunch_Side.mp4\n",
      "Moviepy - Building video ../data/vid_cut/08/08_Video_ReverseFly_Frontal.mp4.\n",
      "MoviePy - Writing audio in 08_Video_ReverseFly_FrontalTEMP_MPY_wvf_snd.mp4\n"
     ]
    },
    {
     "name": "stderr",
     "output_type": "stream",
     "text": [
      "                                                                                                               \r"
     ]
    },
    {
     "name": "stdout",
     "output_type": "stream",
     "text": [
      "MoviePy - Done.\n",
      "Moviepy - Writing video ../data/vid_cut/08/08_Video_ReverseFly_Frontal.mp4\n",
      "\n"
     ]
    },
    {
     "name": "stderr",
     "output_type": "stream",
     "text": [
      "                                                                                                               \r"
     ]
    },
    {
     "name": "stdout",
     "output_type": "stream",
     "text": [
      "Moviepy - Done !\n",
      "Moviepy - video ready ../data/vid_cut/08/08_Video_ReverseFly_Frontal.mp4\n",
      "Moviepy - Building video ../data/vid_cut/08/08_Video_ReverseFly_Side.mp4.\n",
      "MoviePy - Writing audio in 08_Video_ReverseFly_SideTEMP_MPY_wvf_snd.mp4\n"
     ]
    },
    {
     "name": "stderr",
     "output_type": "stream",
     "text": [
      "                                                                                                               \r"
     ]
    },
    {
     "name": "stdout",
     "output_type": "stream",
     "text": [
      "MoviePy - Done.\n",
      "Moviepy - Writing video ../data/vid_cut/08/08_Video_ReverseFly_Side.mp4\n",
      "\n"
     ]
    },
    {
     "name": "stderr",
     "output_type": "stream",
     "text": [
      "                                                                                                               \r"
     ]
    },
    {
     "name": "stdout",
     "output_type": "stream",
     "text": [
      "Moviepy - Done !\n",
      "Moviepy - video ready ../data/vid_cut/08/08_Video_ReverseFly_Side.mp4\n",
      "Moviepy - Building video ../data/vid_cut/08/08_Video_SideSquat_Frontal.mp4.\n",
      "MoviePy - Writing audio in 08_Video_SideSquat_FrontalTEMP_MPY_wvf_snd.mp4\n"
     ]
    },
    {
     "name": "stderr",
     "output_type": "stream",
     "text": [
      "                                                                                                               \r"
     ]
    },
    {
     "name": "stdout",
     "output_type": "stream",
     "text": [
      "MoviePy - Done.\n",
      "Moviepy - Writing video ../data/vid_cut/08/08_Video_SideSquat_Frontal.mp4\n",
      "\n"
     ]
    },
    {
     "name": "stderr",
     "output_type": "stream",
     "text": [
      "                                                                                                               \r"
     ]
    },
    {
     "name": "stdout",
     "output_type": "stream",
     "text": [
      "Moviepy - Done !\n",
      "Moviepy - video ready ../data/vid_cut/08/08_Video_SideSquat_Frontal.mp4\n",
      "Moviepy - Building video ../data/vid_cut/08/08_Video_SideSquat_Side.mp4.\n",
      "MoviePy - Writing audio in 08_Video_SideSquat_SideTEMP_MPY_wvf_snd.mp4\n"
     ]
    },
    {
     "name": "stderr",
     "output_type": "stream",
     "text": [
      "                                                                                                               \r"
     ]
    },
    {
     "name": "stdout",
     "output_type": "stream",
     "text": [
      "MoviePy - Done.\n",
      "Moviepy - Writing video ../data/vid_cut/08/08_Video_SideSquat_Side.mp4\n",
      "\n"
     ]
    },
    {
     "name": "stderr",
     "output_type": "stream",
     "text": [
      "                                                                                                               \r"
     ]
    },
    {
     "name": "stdout",
     "output_type": "stream",
     "text": [
      "Moviepy - Done !\n",
      "Moviepy - video ready ../data/vid_cut/08/08_Video_SideSquat_Side.mp4\n",
      "Moviepy - Building video ../data/vid_cut/08/08_Video_SingleLegDeadlift_Frontal.mp4.\n",
      "MoviePy - Writing audio in 08_Video_SingleLegDeadlift_FrontalTEMP_MPY_wvf_snd.mp4\n"
     ]
    },
    {
     "name": "stderr",
     "output_type": "stream",
     "text": [
      "                                                                                                               \r"
     ]
    },
    {
     "name": "stdout",
     "output_type": "stream",
     "text": [
      "MoviePy - Done.\n",
      "Moviepy - Writing video ../data/vid_cut/08/08_Video_SingleLegDeadlift_Frontal.mp4\n",
      "\n"
     ]
    },
    {
     "name": "stderr",
     "output_type": "stream",
     "text": [
      "                                                                                                               \r"
     ]
    },
    {
     "name": "stdout",
     "output_type": "stream",
     "text": [
      "Moviepy - Done !\n",
      "Moviepy - video ready ../data/vid_cut/08/08_Video_SingleLegDeadlift_Frontal.mp4\n",
      "Moviepy - Building video ../data/vid_cut/08/08_Video_SingleLegDeadlift_Side.mp4.\n",
      "MoviePy - Writing audio in 08_Video_SingleLegDeadlift_SideTEMP_MPY_wvf_snd.mp4\n"
     ]
    },
    {
     "name": "stderr",
     "output_type": "stream",
     "text": [
      "                                                                                                               \r"
     ]
    },
    {
     "name": "stdout",
     "output_type": "stream",
     "text": [
      "MoviePy - Done.\n",
      "Moviepy - Writing video ../data/vid_cut/08/08_Video_SingleLegDeadlift_Side.mp4\n",
      "\n"
     ]
    },
    {
     "name": "stderr",
     "output_type": "stream",
     "text": [
      "                                                                                                               \r"
     ]
    },
    {
     "name": "stdout",
     "output_type": "stream",
     "text": [
      "Moviepy - Done !\n",
      "Moviepy - video ready ../data/vid_cut/08/08_Video_SingleLegDeadlift_Side.mp4\n",
      "Moviepy - Building video ../data/vid_cut/08/08_Video_Squat_Frontal.mp4.\n",
      "MoviePy - Writing audio in 08_Video_Squat_FrontalTEMP_MPY_wvf_snd.mp4\n"
     ]
    },
    {
     "name": "stderr",
     "output_type": "stream",
     "text": [
      "                                                                                                               \r"
     ]
    },
    {
     "name": "stdout",
     "output_type": "stream",
     "text": [
      "MoviePy - Done.\n",
      "Moviepy - Writing video ../data/vid_cut/08/08_Video_Squat_Frontal.mp4\n",
      "\n"
     ]
    },
    {
     "name": "stderr",
     "output_type": "stream",
     "text": [
      "                                                                                                               \r"
     ]
    },
    {
     "name": "stdout",
     "output_type": "stream",
     "text": [
      "Moviepy - Done !\n",
      "Moviepy - video ready ../data/vid_cut/08/08_Video_Squat_Frontal.mp4\n",
      "Moviepy - Building video ../data/vid_cut/08/08_Video_Squat_Side.mp4.\n",
      "MoviePy - Writing audio in 08_Video_Squat_SideTEMP_MPY_wvf_snd.mp4\n"
     ]
    },
    {
     "name": "stderr",
     "output_type": "stream",
     "text": [
      "                                                                                                               \r"
     ]
    },
    {
     "name": "stdout",
     "output_type": "stream",
     "text": [
      "MoviePy - Done.\n",
      "Moviepy - Writing video ../data/vid_cut/08/08_Video_Squat_Side.mp4\n",
      "\n"
     ]
    },
    {
     "name": "stderr",
     "output_type": "stream",
     "text": [
      "                                                                                                               \r"
     ]
    },
    {
     "name": "stdout",
     "output_type": "stream",
     "text": [
      "Moviepy - Done !\n",
      "Moviepy - video ready ../data/vid_cut/08/08_Video_Squat_Side.mp4\n",
      "Moviepy - Building video ../data/vid_cut/01/01_Video_FrontLunge_Frontal.mp4.\n",
      "MoviePy - Writing audio in 01_Video_FrontLunge_FrontalTEMP_MPY_wvf_snd.mp4\n"
     ]
    },
    {
     "name": "stderr",
     "output_type": "stream",
     "text": [
      "                                                                                                               \r"
     ]
    },
    {
     "name": "stdout",
     "output_type": "stream",
     "text": [
      "MoviePy - Done.\n",
      "Moviepy - Writing video ../data/vid_cut/01/01_Video_FrontLunge_Frontal.mp4\n",
      "\n"
     ]
    },
    {
     "name": "stderr",
     "output_type": "stream",
     "text": [
      "                                                                                                               \r"
     ]
    },
    {
     "name": "stdout",
     "output_type": "stream",
     "text": [
      "Moviepy - Done !\n",
      "Moviepy - video ready ../data/vid_cut/01/01_Video_FrontLunge_Frontal.mp4\n",
      "Moviepy - Building video ../data/vid_cut/01/01_Video_Squat_Frontal.mp4.\n",
      "MoviePy - Writing audio in 01_Video_Squat_FrontalTEMP_MPY_wvf_snd.mp4\n"
     ]
    },
    {
     "name": "stderr",
     "output_type": "stream",
     "text": [
      "                                                                                                               \r"
     ]
    },
    {
     "name": "stdout",
     "output_type": "stream",
     "text": [
      "MoviePy - Done.\n",
      "Moviepy - Writing video ../data/vid_cut/01/01_Video_Squat_Frontal.mp4\n",
      "\n"
     ]
    },
    {
     "name": "stderr",
     "output_type": "stream",
     "text": [
      "                                                                                                               \r"
     ]
    },
    {
     "name": "stdout",
     "output_type": "stream",
     "text": [
      "Moviepy - Done !\n",
      "Moviepy - video ready ../data/vid_cut/01/01_Video_Squat_Frontal.mp4\n",
      "Moviepy - Building video ../data/vid_cut/01/01_Video_SingleLegDeadlift_Frontal.mp4.\n",
      "MoviePy - Writing audio in 01_Video_SingleLegDeadlift_FrontalTEMP_MPY_wvf_snd.mp4\n"
     ]
    },
    {
     "name": "stderr",
     "output_type": "stream",
     "text": [
      "                                                                                                               \r"
     ]
    },
    {
     "name": "stdout",
     "output_type": "stream",
     "text": [
      "MoviePy - Done.\n",
      "Moviepy - Writing video ../data/vid_cut/01/01_Video_SingleLegDeadlift_Frontal.mp4\n",
      "\n"
     ]
    },
    {
     "name": "stderr",
     "output_type": "stream",
     "text": [
      "                                                                                                               \r"
     ]
    },
    {
     "name": "stdout",
     "output_type": "stream",
     "text": [
      "Moviepy - Done !\n",
      "Moviepy - video ready ../data/vid_cut/01/01_Video_SingleLegDeadlift_Frontal.mp4\n",
      "Moviepy - Building video ../data/vid_cut/01/01_Video_LateralArmRaise_Frontal.mp4.\n",
      "MoviePy - Writing audio in 01_Video_LateralArmRaise_FrontalTEMP_MPY_wvf_snd.mp4\n"
     ]
    },
    {
     "name": "stderr",
     "output_type": "stream",
     "text": [
      "                                                                                                               \r"
     ]
    },
    {
     "name": "stdout",
     "output_type": "stream",
     "text": [
      "MoviePy - Done.\n",
      "Moviepy - Writing video ../data/vid_cut/01/01_Video_LateralArmRaise_Frontal.mp4\n",
      "\n"
     ]
    },
    {
     "name": "stderr",
     "output_type": "stream",
     "text": [
      "                                                                                                               \r"
     ]
    },
    {
     "name": "stdout",
     "output_type": "stream",
     "text": [
      "Moviepy - Done !\n",
      "Moviepy - video ready ../data/vid_cut/01/01_Video_LateralArmRaise_Frontal.mp4\n",
      "Moviepy - Building video ../data/vid_cut/01/01_Video_JumpingJacks_Frontal.mp4.\n",
      "MoviePy - Writing audio in 01_Video_JumpingJacks_FrontalTEMP_MPY_wvf_snd.mp4\n"
     ]
    },
    {
     "name": "stderr",
     "output_type": "stream",
     "text": [
      "                                                                                                               \r"
     ]
    },
    {
     "name": "stdout",
     "output_type": "stream",
     "text": [
      "MoviePy - Done.\n",
      "Moviepy - Writing video ../data/vid_cut/01/01_Video_JumpingJacks_Frontal.mp4\n",
      "\n"
     ]
    },
    {
     "name": "stderr",
     "output_type": "stream",
     "text": [
      "                                                                                                               \r"
     ]
    },
    {
     "name": "stdout",
     "output_type": "stream",
     "text": [
      "Moviepy - Done !\n",
      "Moviepy - video ready ../data/vid_cut/01/01_Video_JumpingJacks_Frontal.mp4\n",
      "Moviepy - Building video ../data/vid_cut/01/01_Video_SideSquat_Frontal.mp4.\n",
      "MoviePy - Writing audio in 01_Video_SideSquat_FrontalTEMP_MPY_wvf_snd.mp4\n"
     ]
    },
    {
     "name": "stderr",
     "output_type": "stream",
     "text": [
      "                                                                                                               \r"
     ]
    },
    {
     "name": "stdout",
     "output_type": "stream",
     "text": [
      "MoviePy - Done.\n",
      "Moviepy - Writing video ../data/vid_cut/01/01_Video_SideSquat_Frontal.mp4\n",
      "\n"
     ]
    },
    {
     "name": "stderr",
     "output_type": "stream",
     "text": [
      "                                                                                                               \r"
     ]
    },
    {
     "name": "stdout",
     "output_type": "stream",
     "text": [
      "Moviepy - Done !\n",
      "Moviepy - video ready ../data/vid_cut/01/01_Video_SideSquat_Frontal.mp4\n",
      "Moviepy - Building video ../data/vid_cut/01/01_Video_LegExtensionCrunch_Frontal.mp4.\n",
      "MoviePy - Writing audio in 01_Video_LegExtensionCrunch_FrontalTEMP_MPY_wvf_snd.mp4\n"
     ]
    },
    {
     "name": "stderr",
     "output_type": "stream",
     "text": [
      "                                                                                                               \r"
     ]
    },
    {
     "name": "stdout",
     "output_type": "stream",
     "text": [
      "MoviePy - Done.\n",
      "Moviepy - Writing video ../data/vid_cut/01/01_Video_LegExtensionCrunch_Frontal.mp4\n",
      "\n"
     ]
    },
    {
     "name": "stderr",
     "output_type": "stream",
     "text": [
      "                                                                                                               \r"
     ]
    },
    {
     "name": "stdout",
     "output_type": "stream",
     "text": [
      "Moviepy - Done !\n",
      "Moviepy - video ready ../data/vid_cut/01/01_Video_LegExtensionCrunch_Frontal.mp4\n",
      "Moviepy - Building video ../data/vid_cut/01/01_Video_ReverseFly_Frontal.mp4.\n",
      "MoviePy - Writing audio in 01_Video_ReverseFly_FrontalTEMP_MPY_wvf_snd.mp4\n"
     ]
    },
    {
     "name": "stderr",
     "output_type": "stream",
     "text": [
      "                                                                                                               \r"
     ]
    },
    {
     "name": "stdout",
     "output_type": "stream",
     "text": [
      "MoviePy - Done.\n",
      "Moviepy - Writing video ../data/vid_cut/01/01_Video_ReverseFly_Frontal.mp4\n",
      "\n"
     ]
    },
    {
     "name": "stderr",
     "output_type": "stream",
     "text": [
      "                                                                                                               \r"
     ]
    },
    {
     "name": "stdout",
     "output_type": "stream",
     "text": [
      "Moviepy - Done !\n",
      "Moviepy - video ready ../data/vid_cut/01/01_Video_ReverseFly_Frontal.mp4\n",
      "Moviepy - Building video ../data/vid_cut/06/06_Video_FrontLunge_Frontal.mp4.\n",
      "MoviePy - Writing audio in 06_Video_FrontLunge_FrontalTEMP_MPY_wvf_snd.mp4\n"
     ]
    },
    {
     "name": "stderr",
     "output_type": "stream",
     "text": [
      "                                                                                                               \r"
     ]
    },
    {
     "name": "stdout",
     "output_type": "stream",
     "text": [
      "MoviePy - Done.\n",
      "Moviepy - Writing video ../data/vid_cut/06/06_Video_FrontLunge_Frontal.mp4\n",
      "\n"
     ]
    },
    {
     "name": "stderr",
     "output_type": "stream",
     "text": [
      "                                                                                                               \r"
     ]
    },
    {
     "name": "stdout",
     "output_type": "stream",
     "text": [
      "Moviepy - Done !\n",
      "Moviepy - video ready ../data/vid_cut/06/06_Video_FrontLunge_Frontal.mp4\n",
      "Moviepy - Building video ../data/vid_cut/06/06_Video_FrontLunge_Side.mp4.\n",
      "MoviePy - Writing audio in 06_Video_FrontLunge_SideTEMP_MPY_wvf_snd.mp4\n"
     ]
    },
    {
     "name": "stderr",
     "output_type": "stream",
     "text": [
      "                                                                                                               \r"
     ]
    },
    {
     "name": "stdout",
     "output_type": "stream",
     "text": [
      "MoviePy - Done.\n",
      "Moviepy - Writing video ../data/vid_cut/06/06_Video_FrontLunge_Side.mp4\n",
      "\n"
     ]
    },
    {
     "name": "stderr",
     "output_type": "stream",
     "text": [
      "                                                                                                               \r"
     ]
    },
    {
     "name": "stdout",
     "output_type": "stream",
     "text": [
      "Moviepy - Done !\n",
      "Moviepy - video ready ../data/vid_cut/06/06_Video_FrontLunge_Side.mp4\n",
      "Moviepy - Building video ../data/vid_cut/06/06_Video_JumpingJacks_Frontal.mp4.\n",
      "MoviePy - Writing audio in 06_Video_JumpingJacks_FrontalTEMP_MPY_wvf_snd.mp4\n"
     ]
    },
    {
     "name": "stderr",
     "output_type": "stream",
     "text": [
      "                                                                                                               \r"
     ]
    },
    {
     "name": "stdout",
     "output_type": "stream",
     "text": [
      "MoviePy - Done.\n",
      "Moviepy - Writing video ../data/vid_cut/06/06_Video_JumpingJacks_Frontal.mp4\n",
      "\n"
     ]
    },
    {
     "name": "stderr",
     "output_type": "stream",
     "text": [
      "                                                                                                               \r"
     ]
    },
    {
     "name": "stdout",
     "output_type": "stream",
     "text": [
      "Moviepy - Done !\n",
      "Moviepy - video ready ../data/vid_cut/06/06_Video_JumpingJacks_Frontal.mp4\n",
      "Moviepy - Building video ../data/vid_cut/06/06_Video_JumpingJacks_Side.mp4.\n",
      "MoviePy - Writing audio in 06_Video_JumpingJacks_SideTEMP_MPY_wvf_snd.mp4\n"
     ]
    },
    {
     "name": "stderr",
     "output_type": "stream",
     "text": [
      "                                                                                                               \r"
     ]
    },
    {
     "name": "stdout",
     "output_type": "stream",
     "text": [
      "MoviePy - Done.\n",
      "Moviepy - Writing video ../data/vid_cut/06/06_Video_JumpingJacks_Side.mp4\n",
      "\n"
     ]
    },
    {
     "name": "stderr",
     "output_type": "stream",
     "text": [
      "                                                                                                               \r"
     ]
    },
    {
     "name": "stdout",
     "output_type": "stream",
     "text": [
      "Moviepy - Done !\n",
      "Moviepy - video ready ../data/vid_cut/06/06_Video_JumpingJacks_Side.mp4\n",
      "Moviepy - Building video ../data/vid_cut/06/06_Video_LateralArmRaise_Frontal.mp4.\n",
      "MoviePy - Writing audio in 06_Video_LateralArmRaise_FrontalTEMP_MPY_wvf_snd.mp4\n"
     ]
    },
    {
     "name": "stderr",
     "output_type": "stream",
     "text": [
      "                                                                                                               \r"
     ]
    },
    {
     "name": "stdout",
     "output_type": "stream",
     "text": [
      "MoviePy - Done.\n",
      "Moviepy - Writing video ../data/vid_cut/06/06_Video_LateralArmRaise_Frontal.mp4\n",
      "\n"
     ]
    },
    {
     "name": "stderr",
     "output_type": "stream",
     "text": [
      "                                                                                                               \r"
     ]
    },
    {
     "name": "stdout",
     "output_type": "stream",
     "text": [
      "Moviepy - Done !\n",
      "Moviepy - video ready ../data/vid_cut/06/06_Video_LateralArmRaise_Frontal.mp4\n",
      "Moviepy - Building video ../data/vid_cut/06/06_Video_LateralArmRaise_Side.mp4.\n",
      "MoviePy - Writing audio in 06_Video_LateralArmRaise_SideTEMP_MPY_wvf_snd.mp4\n"
     ]
    },
    {
     "name": "stderr",
     "output_type": "stream",
     "text": [
      "                                                                                                               \r"
     ]
    },
    {
     "name": "stdout",
     "output_type": "stream",
     "text": [
      "MoviePy - Done.\n",
      "Moviepy - Writing video ../data/vid_cut/06/06_Video_LateralArmRaise_Side.mp4\n",
      "\n"
     ]
    },
    {
     "name": "stderr",
     "output_type": "stream",
     "text": [
      "                                                                                                               \r"
     ]
    },
    {
     "name": "stdout",
     "output_type": "stream",
     "text": [
      "Moviepy - Done !\n",
      "Moviepy - video ready ../data/vid_cut/06/06_Video_LateralArmRaise_Side.mp4\n",
      "Moviepy - Building video ../data/vid_cut/06/06_Video_LegExtensionCrunch_Frontal.mp4.\n",
      "MoviePy - Writing audio in 06_Video_LegExtensionCrunch_FrontalTEMP_MPY_wvf_snd.mp4\n"
     ]
    },
    {
     "name": "stderr",
     "output_type": "stream",
     "text": [
      "                                                                                                               \r"
     ]
    },
    {
     "name": "stdout",
     "output_type": "stream",
     "text": [
      "MoviePy - Done.\n",
      "Moviepy - Writing video ../data/vid_cut/06/06_Video_LegExtensionCrunch_Frontal.mp4\n",
      "\n"
     ]
    },
    {
     "name": "stderr",
     "output_type": "stream",
     "text": [
      "                                                                                                               \r"
     ]
    },
    {
     "name": "stdout",
     "output_type": "stream",
     "text": [
      "Moviepy - Done !\n",
      "Moviepy - video ready ../data/vid_cut/06/06_Video_LegExtensionCrunch_Frontal.mp4\n",
      "Moviepy - Building video ../data/vid_cut/06/06_Video_LegExtensionCrunch_Side.mp4.\n",
      "MoviePy - Writing audio in 06_Video_LegExtensionCrunch_SideTEMP_MPY_wvf_snd.mp4\n"
     ]
    },
    {
     "name": "stderr",
     "output_type": "stream",
     "text": [
      "                                                                                                               \r"
     ]
    },
    {
     "name": "stdout",
     "output_type": "stream",
     "text": [
      "MoviePy - Done.\n",
      "Moviepy - Writing video ../data/vid_cut/06/06_Video_LegExtensionCrunch_Side.mp4\n",
      "\n"
     ]
    },
    {
     "name": "stderr",
     "output_type": "stream",
     "text": [
      "                                                                                                               \r"
     ]
    },
    {
     "name": "stdout",
     "output_type": "stream",
     "text": [
      "Moviepy - Done !\n",
      "Moviepy - video ready ../data/vid_cut/06/06_Video_LegExtensionCrunch_Side.mp4\n",
      "Moviepy - Building video ../data/vid_cut/06/06_Video_ReverseFly_Frontal.mp4.\n",
      "MoviePy - Writing audio in 06_Video_ReverseFly_FrontalTEMP_MPY_wvf_snd.mp4\n"
     ]
    },
    {
     "name": "stderr",
     "output_type": "stream",
     "text": [
      "                                                                                                               \r"
     ]
    },
    {
     "name": "stdout",
     "output_type": "stream",
     "text": [
      "MoviePy - Done.\n",
      "Moviepy - Writing video ../data/vid_cut/06/06_Video_ReverseFly_Frontal.mp4\n",
      "\n"
     ]
    },
    {
     "name": "stderr",
     "output_type": "stream",
     "text": [
      "                                                                                                               \r"
     ]
    },
    {
     "name": "stdout",
     "output_type": "stream",
     "text": [
      "Moviepy - Done !\n",
      "Moviepy - video ready ../data/vid_cut/06/06_Video_ReverseFly_Frontal.mp4\n",
      "Moviepy - Building video ../data/vid_cut/06/06_Video_ReverseFly_Side.mp4.\n",
      "MoviePy - Writing audio in 06_Video_ReverseFly_SideTEMP_MPY_wvf_snd.mp4\n"
     ]
    },
    {
     "name": "stderr",
     "output_type": "stream",
     "text": [
      "                                                                                                               \r"
     ]
    },
    {
     "name": "stdout",
     "output_type": "stream",
     "text": [
      "MoviePy - Done.\n",
      "Moviepy - Writing video ../data/vid_cut/06/06_Video_ReverseFly_Side.mp4\n",
      "\n"
     ]
    },
    {
     "name": "stderr",
     "output_type": "stream",
     "text": [
      "                                                                                                               \r"
     ]
    },
    {
     "name": "stdout",
     "output_type": "stream",
     "text": [
      "Moviepy - Done !\n",
      "Moviepy - video ready ../data/vid_cut/06/06_Video_ReverseFly_Side.mp4\n",
      "Moviepy - Building video ../data/vid_cut/06/06_Video_SideSquat_Frontal.mp4.\n",
      "MoviePy - Writing audio in 06_Video_SideSquat_FrontalTEMP_MPY_wvf_snd.mp4\n"
     ]
    },
    {
     "name": "stderr",
     "output_type": "stream",
     "text": [
      "                                                                                                               \r"
     ]
    },
    {
     "name": "stdout",
     "output_type": "stream",
     "text": [
      "MoviePy - Done.\n",
      "Moviepy - Writing video ../data/vid_cut/06/06_Video_SideSquat_Frontal.mp4\n",
      "\n"
     ]
    },
    {
     "name": "stderr",
     "output_type": "stream",
     "text": [
      "                                                                                                               \r"
     ]
    },
    {
     "name": "stdout",
     "output_type": "stream",
     "text": [
      "Moviepy - Done !\n",
      "Moviepy - video ready ../data/vid_cut/06/06_Video_SideSquat_Frontal.mp4\n",
      "Moviepy - Building video ../data/vid_cut/06/06_Video_SideSquat_Side.mp4.\n",
      "MoviePy - Writing audio in 06_Video_SideSquat_SideTEMP_MPY_wvf_snd.mp4\n"
     ]
    },
    {
     "name": "stderr",
     "output_type": "stream",
     "text": [
      "                                                                                                               \r"
     ]
    },
    {
     "name": "stdout",
     "output_type": "stream",
     "text": [
      "MoviePy - Done.\n",
      "Moviepy - Writing video ../data/vid_cut/06/06_Video_SideSquat_Side.mp4\n",
      "\n"
     ]
    },
    {
     "name": "stderr",
     "output_type": "stream",
     "text": [
      "                                                                                                               \r"
     ]
    },
    {
     "name": "stdout",
     "output_type": "stream",
     "text": [
      "Moviepy - Done !\n",
      "Moviepy - video ready ../data/vid_cut/06/06_Video_SideSquat_Side.mp4\n",
      "Moviepy - Building video ../data/vid_cut/06/06_Video_SingleLegDeadlift_Frontal.mp4.\n",
      "MoviePy - Writing audio in 06_Video_SingleLegDeadlift_FrontalTEMP_MPY_wvf_snd.mp4\n"
     ]
    },
    {
     "name": "stderr",
     "output_type": "stream",
     "text": [
      "                                                                                                               \r"
     ]
    },
    {
     "name": "stdout",
     "output_type": "stream",
     "text": [
      "MoviePy - Done.\n",
      "Moviepy - Writing video ../data/vid_cut/06/06_Video_SingleLegDeadlift_Frontal.mp4\n",
      "\n"
     ]
    },
    {
     "name": "stderr",
     "output_type": "stream",
     "text": [
      "                                                                                                               \r"
     ]
    },
    {
     "name": "stdout",
     "output_type": "stream",
     "text": [
      "Moviepy - Done !\n",
      "Moviepy - video ready ../data/vid_cut/06/06_Video_SingleLegDeadlift_Frontal.mp4\n",
      "Moviepy - Building video ../data/vid_cut/06/06_Video_SingleLegDeadlift_Side.mp4.\n",
      "MoviePy - Writing audio in 06_Video_SingleLegDeadlift_SideTEMP_MPY_wvf_snd.mp4\n"
     ]
    },
    {
     "name": "stderr",
     "output_type": "stream",
     "text": [
      "                                                                                                               \r"
     ]
    },
    {
     "name": "stdout",
     "output_type": "stream",
     "text": [
      "MoviePy - Done.\n",
      "Moviepy - Writing video ../data/vid_cut/06/06_Video_SingleLegDeadlift_Side.mp4\n",
      "\n"
     ]
    },
    {
     "name": "stderr",
     "output_type": "stream",
     "text": [
      "                                                                                                               \r"
     ]
    },
    {
     "name": "stdout",
     "output_type": "stream",
     "text": [
      "Moviepy - Done !\n",
      "Moviepy - video ready ../data/vid_cut/06/06_Video_SingleLegDeadlift_Side.mp4\n",
      "Moviepy - Building video ../data/vid_cut/06/06_Video_Squat_Frontal.mp4.\n",
      "MoviePy - Writing audio in 06_Video_Squat_FrontalTEMP_MPY_wvf_snd.mp4\n"
     ]
    },
    {
     "name": "stderr",
     "output_type": "stream",
     "text": [
      "                                                                                                               \r"
     ]
    },
    {
     "name": "stdout",
     "output_type": "stream",
     "text": [
      "MoviePy - Done.\n",
      "Moviepy - Writing video ../data/vid_cut/06/06_Video_Squat_Frontal.mp4\n",
      "\n"
     ]
    },
    {
     "name": "stderr",
     "output_type": "stream",
     "text": [
      "                                                                                                               \r"
     ]
    },
    {
     "name": "stdout",
     "output_type": "stream",
     "text": [
      "Moviepy - Done !\n",
      "Moviepy - video ready ../data/vid_cut/06/06_Video_Squat_Frontal.mp4\n",
      "Moviepy - Building video ../data/vid_cut/06/06_Video_Squat_Side.mp4.\n",
      "MoviePy - Writing audio in 06_Video_Squat_SideTEMP_MPY_wvf_snd.mp4\n"
     ]
    },
    {
     "name": "stderr",
     "output_type": "stream",
     "text": [
      "                                                                                                               \r"
     ]
    },
    {
     "name": "stdout",
     "output_type": "stream",
     "text": [
      "MoviePy - Done.\n",
      "Moviepy - Writing video ../data/vid_cut/06/06_Video_Squat_Side.mp4\n",
      "\n"
     ]
    },
    {
     "name": "stderr",
     "output_type": "stream",
     "text": [
      "                                                                                                               \r"
     ]
    },
    {
     "name": "stdout",
     "output_type": "stream",
     "text": [
      "Moviepy - Done !\n",
      "Moviepy - video ready ../data/vid_cut/06/06_Video_Squat_Side.mp4\n"
     ]
    }
   ],
   "source": [
    "input_folder = \"../data/vid\"\n",
    "output_folder = \"../data/vid_cut\"\n",
    "\n",
    "# Ensure the output folder exists, create it if not\n",
    "os.makedirs(output_folder, exist_ok=True)\n",
    "\n",
    "cut_and_save_videos(input_folder, output_folder)"
   ]
  }
 ],
 "metadata": {
  "kernelspec": {
   "display_name": "mediapipe_vs_vicon",
   "language": "python",
   "name": "mediapipe_vs_vicon"
  },
  "language_info": {
   "codemirror_mode": {
    "name": "ipython",
    "version": 3
   },
   "file_extension": ".py",
   "mimetype": "text/x-python",
   "name": "python",
   "nbconvert_exporter": "python",
   "pygments_lexer": "ipython3",
   "version": "3.9.16"
  }
 },
 "nbformat": 4,
 "nbformat_minor": 5
}
